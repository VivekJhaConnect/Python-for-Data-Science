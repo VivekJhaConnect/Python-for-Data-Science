{
 "cells": [
  {
   "cell_type": "markdown",
   "metadata": {},
   "source": [
    "## Database connetion Context Manager class using dunder method"
   ]
  },
  {
   "cell_type": "code",
   "execution_count": 1,
   "metadata": {},
   "outputs": [],
   "source": [
    "class DatabaseConnection:\n",
    "    \"\"\"Simulate a database connection with context management\"\"\"\n",
    "    def __init__(self, db_name) -> None:\n",
    "        self.db_name = db_name\n",
    "        self.connected = False\n",
    "\n",
    "    def __enter__(self):\n",
    "        \"\"\"Establist the connection\"\"\"\n",
    "        self.connected = True\n",
    "        print(f\"Connected to the database '{self.db_name}'\")\n",
    "        return self\n",
    "\n",
    "    def __exit__(self, exc_type, exc_value, traceback):\n",
    "        \"\"\"Close the connection.\"\"\"\n",
    "        self.connected = False\n",
    "        print(f\"Discunnexted from the database '{self.db_name}'\")\n",
    "\n",
    "        if exc_type:\n",
    "            print(f\"An exception occurred: {exc_value}\")\n",
    "\n",
    "        return True"
   ]
  },
  {
   "cell_type": "code",
   "execution_count": 2,
   "metadata": {},
   "outputs": [
    {
     "name": "stdout",
     "output_type": "stream",
     "text": [
      "Connected to the database 'ExampleDB'\n",
      "Is connected? True\n",
      "Discunnexted from the database 'ExampleDB'\n"
     ]
    }
   ],
   "source": [
    "with DatabaseConnection(\"ExampleDB\") as db:\n",
    "    print(f\"Is connected? {db.connected}\")"
   ]
  },
  {
   "cell_type": "markdown",
   "metadata": {},
   "source": [
    "## File read and write\n"
   ]
  },
  {
   "cell_type": "code",
   "execution_count": 8,
   "metadata": {},
   "outputs": [],
   "source": [
    "class File:\n",
    "    def __init__(self, filename, method):\n",
    "        self.file = open(filename, method)\n",
    "\n",
    "    def __enter__(self):\n",
    "        print(\"Entering the context manager\")\n",
    "        return self.file\n",
    "\n",
    "    def __exit__(self, exc_type, exc_value, traceback):\n",
    "        print(f\"Exception type: {exc_type}, {exc_value}, {traceback}\")\n",
    "        print(\"Exiting the context manager\")\n",
    "        self.file.close()\n",
    "        if type(exc_type) == Exception:\n",
    "            return True\n",
    "        return False"
   ]
  },
  {
   "cell_type": "code",
   "execution_count": 9,
   "metadata": {},
   "outputs": [
    {
     "name": "stdout",
     "output_type": "stream",
     "text": [
      "Entering the context manager\n",
      "Writing to the file\n",
      "Exception type: None, None, None\n",
      "Exiting the context manager\n"
     ]
    }
   ],
   "source": [
    "with File(\"example.txt\", \"w\") as file:\n",
    "    print(\"Writing to the file\")\n",
    "    file.write(\"Hello, World!\")\n",
    "    # raise Exception(\"This is a test exception\")"
   ]
  },
  {
   "cell_type": "markdown",
   "metadata": {},
   "source": [
    "## Using contextlib decorator"
   ]
  },
  {
   "cell_type": "code",
   "execution_count": 12,
   "metadata": {},
   "outputs": [],
   "source": [
    "from contextlib import contextmanager\n",
    "\n",
    "@contextmanager\n",
    "def file_manager(filename, method):\n",
    "    print(\"Entering the context manager\")\n",
    "    file = open(filename, method)\n",
    "    yield file\n",
    "    print(\"Exiting the context manager\")\n",
    "    file.close()"
   ]
  },
  {
   "cell_type": "code",
   "execution_count": 13,
   "metadata": {},
   "outputs": [
    {
     "name": "stdout",
     "output_type": "stream",
     "text": [
      "Entering the context manager\n",
      "Writing to the file\n",
      "Exiting the context manager\n"
     ]
    }
   ],
   "source": [
    "\n",
    "with file_manager(\"example.txt\", \"w\") as file:\n",
    "    print(\"Writing to the file\")\n",
    "    file.write(\"Hello, World!\")\n",
    "    # raise Exception(\"This is a test exception\")"
   ]
  },
  {
   "cell_type": "code",
   "execution_count": null,
   "metadata": {},
   "outputs": [],
   "source": []
  }
 ],
 "metadata": {
  "kernelspec": {
   "display_name": "venv",
   "language": "python",
   "name": "python3"
  },
  "language_info": {
   "codemirror_mode": {
    "name": "ipython",
    "version": 3
   },
   "file_extension": ".py",
   "mimetype": "text/x-python",
   "name": "python",
   "nbconvert_exporter": "python",
   "pygments_lexer": "ipython3",
   "version": "3.12.3"
  }
 },
 "nbformat": 4,
 "nbformat_minor": 2
}
