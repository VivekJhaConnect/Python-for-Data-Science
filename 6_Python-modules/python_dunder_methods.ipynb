{
 "cells": [
  {
   "cell_type": "markdown",
   "metadata": {},
   "source": [
    "### Dunder/Megic Methods in Python"
   ]
  },
  {
   "cell_type": "code",
   "execution_count": 2,
   "metadata": {},
   "outputs": [
    {
     "name": "stdout",
     "output_type": "stream",
     "text": [
      "Helloworld\n",
      "Helloworld\n",
      "5\n"
     ]
    }
   ],
   "source": [
    "str1 = \"Hello\"\n",
    "str2 = \"world\"\n",
    "\n",
    "print(str1 + str2)\n",
    "\n",
    "# use __add__ method\n",
    "print(str1.__add__(str2))\n",
    "\n",
    "# use __len__ method\n",
    "print(len(str1))"
   ]
  },
  {
   "cell_type": "code",
   "execution_count": 3,
   "metadata": {},
   "outputs": [
    {
     "name": "stdout",
     "output_type": "stream",
     "text": [
      "Hello\n",
      "'Hello'\n"
     ]
    }
   ],
   "source": [
    "# use __str__ method\n",
    "print(str(str1))\n",
    "\n",
    "# use __repr__ method\n",
    "print(repr(str1))"
   ]
  },
  {
   "cell_type": "code",
   "execution_count": 4,
   "metadata": {},
   "outputs": [
    {
     "name": "stdout",
     "output_type": "stream",
     "text": [
      "5\n",
      "Hello\n"
     ]
    }
   ],
   "source": [
    "# use __len__ method\n",
    "print(len(str1))\n",
    "\n",
    "# use __str__ method\n",
    "print(str(str1))"
   ]
  },
  {
   "cell_type": "code",
   "execution_count": 7,
   "metadata": {},
   "outputs": [
    {
     "name": "stdout",
     "output_type": "stream",
     "text": [
      "Counter=2 Counter=2\n",
      "4\n"
     ]
    }
   ],
   "source": [
    "class Counter:\n",
    "    def __init__(self):\n",
    "        self.value = 1\n",
    "\n",
    "    def count_up(self):\n",
    "        self.value += 1\n",
    "\n",
    "    def count_down(self):\n",
    "        self.value -= 1\n",
    "\n",
    "    def __str__(self):\n",
    "        return f\"Counter={self.value}\"\n",
    "    \n",
    "    def __add__(self, other):\n",
    "        return self.value + other.value\n",
    "\n",
    "count1 = Counter()\n",
    "count2 = Counter()\n",
    "\n",
    "count1.count_up()\n",
    "count2.count_up()\n",
    "\n",
    "print(count1, count2)\n",
    "print(count1 + count2)\n"
   ]
  },
  {
   "cell_type": "code",
   "execution_count": 8,
   "metadata": {},
   "outputs": [
    {
     "name": "stdout",
     "output_type": "stream",
     "text": [
      "Toyota Corolla 2020\n",
      "Car(make=Toyota, model=Corolla, year=2020)\n",
      "19\n"
     ]
    }
   ],
   "source": [
    "class Car:\n",
    "    def __init__(self, make, model, year):\n",
    "        self.make = make\n",
    "        self.model = model\n",
    "        self.year = year\n",
    "\n",
    "    # __str__ meant for user-friendly output\n",
    "    def __str__(self):\n",
    "        return f\"{self.make} {self.model} {self.year}\"\n",
    "\n",
    "    # __repr__ meant for a more detailed, unambiguous output\n",
    "    def __repr__(self):\n",
    "        return f\"Car(make={self.make}, model={self.model}, year={self.year})\"\n",
    "\n",
    "    # __len__ method\n",
    "    def __len__(self):\n",
    "        return len(self.__str__())\n",
    "\n",
    "# create a car object\n",
    "car1 = Car(\"Toyota\", \"Corolla\", 2020)\n",
    "\n",
    "print(str(car1))\n",
    "print(repr(car1))\n",
    "print(len(car1))\n"
   ]
  },
  {
   "cell_type": "code",
   "execution_count": 9,
   "metadata": {},
   "outputs": [
    {
     "ename": "ValueError",
     "evalue": "Cannot add Item of different types",
     "output_type": "error",
     "traceback": [
      "\u001b[1;31m---------------------------------------------------------------------------\u001b[0m",
      "\u001b[1;31mValueError\u001b[0m                                Traceback (most recent call last)",
      "Cell \u001b[1;32mIn[9], line 61\u001b[0m\n\u001b[0;32m     58\u001b[0m item2 \u001b[38;5;241m=\u001b[39m InventoryItem(\u001b[38;5;124m\"\u001b[39m\u001b[38;5;124mDesktop\u001b[39m\u001b[38;5;124m\"\u001b[39m, \u001b[38;5;241m3\u001b[39m)\n\u001b[0;32m     59\u001b[0m item2 \u001b[38;5;241m=\u001b[39m InventoryItem(\u001b[38;5;124m\"\u001b[39m\u001b[38;5;124mCPU\u001b[39m\u001b[38;5;124m\"\u001b[39m, \u001b[38;5;241m3\u001b[39m)\n\u001b[1;32m---> 61\u001b[0m result_add \u001b[38;5;241m=\u001b[39m \u001b[43mitem1\u001b[49m\u001b[43m \u001b[49m\u001b[38;5;241;43m+\u001b[39;49m\u001b[43m \u001b[49m\u001b[43mitem2\u001b[49m \n\u001b[0;32m     62\u001b[0m \u001b[38;5;28mprint\u001b[39m(result_add)\n\u001b[0;32m     63\u001b[0m result_sub \u001b[38;5;241m=\u001b[39m item1 \u001b[38;5;241m-\u001b[39m item2\n",
      "Cell \u001b[1;32mIn[9], line 12\u001b[0m, in \u001b[0;36mInventoryItem.__add__\u001b[1;34m(self, other)\u001b[0m\n\u001b[0;32m     10\u001b[0m \u001b[38;5;28;01mif\u001b[39;00m \u001b[38;5;28misinstance\u001b[39m(other, InventoryItem) \u001b[38;5;129;01mand\u001b[39;00m \u001b[38;5;28mself\u001b[39m\u001b[38;5;241m.\u001b[39mname \u001b[38;5;241m==\u001b[39m other\u001b[38;5;241m.\u001b[39mname:\n\u001b[0;32m     11\u001b[0m     \u001b[38;5;28;01mreturn\u001b[39;00m InventoryItem(\u001b[38;5;28mself\u001b[39m\u001b[38;5;241m.\u001b[39mname, \u001b[38;5;28mself\u001b[39m\u001b[38;5;241m.\u001b[39mquantity\u001b[38;5;241m+\u001b[39m other\u001b[38;5;241m.\u001b[39mquantity)\n\u001b[1;32m---> 12\u001b[0m \u001b[38;5;28;01mraise\u001b[39;00m \u001b[38;5;167;01mValueError\u001b[39;00m(\u001b[38;5;124m\"\u001b[39m\u001b[38;5;124mCannot add Item of different types\u001b[39m\u001b[38;5;124m\"\u001b[39m)\n",
      "\u001b[1;31mValueError\u001b[0m: Cannot add Item of different types"
     ]
    }
   ],
   "source": [
    "class InventoryItem:\n",
    "    def __init__(self, name, quantity):\n",
    "        self.name = name\n",
    "        self.quantity = quantity\n",
    "\n",
    "    def __repr__(self):\n",
    "        return f\"InventoryItem(name={self.name}, quantity={self.quantity})\"\n",
    "\n",
    "    def __add__(self, other):\n",
    "        if isinstance(other, InventoryItem) and self.name == other.name:\n",
    "            return InventoryItem(self.name, self.quantity+ other.quantity)\n",
    "        raise ValueError(\"Cannot add Item of different types\")\n",
    "    \n",
    "    def __sub__(self, other):\n",
    "        if isinstance(other, InventoryItem) and self.name == other.name:\n",
    "            if self.quantity >= other.quantity:\n",
    "                return InventoryItem(self.name, self.quantity - other.quantity)\n",
    "            raise ValueError(\"Cannot subtract more than available quantity\")\n",
    "        raise ValueError(\"Cannot subtract Item of different types\")\n",
    "    \n",
    "    def __mul__(self, other):\n",
    "        if isinstance(other, (int, float)):\n",
    "            return InventoryItem(self.name, int(self.quantity * other))\n",
    "        raise ValueError(\"Cannot multiply by non-integer\")\n",
    "    \n",
    "    def __truediv__(self, other):\n",
    "        if isinstance(other, (int, float)):\n",
    "            return InventoryItem(self.name, int(self.quantity // other))\n",
    "        raise ValueError(\"Cannot divide by non-integer\")\n",
    "        \n",
    "    # Comparison operators\n",
    "    def __eq__(self, other):\n",
    "        if isinstance(other, InventoryItem):\n",
    "            return self.name == other.name and self.quantity == other.quantity\n",
    "        return False\n",
    "    \n",
    "    def __lt__(self, other):\n",
    "        if isinstance(other, InventoryItem):\n",
    "            return self.quantity < other.quantity\n",
    "        return False\n",
    "    \n",
    "    def __gt__(self, other):\n",
    "        if isinstance(other, InventoryItem) and self.name == other.name:\n",
    "            return self.quantity > other.quantity\n",
    "        raise ValueError(\"Cannot compare with non-InventoryItem\")\n",
    "    \n",
    "    def __le__(self, other):\n",
    "        if isinstance(other, InventoryItem):\n",
    "            return self.__lt__(other) or self.__eq__(other)\n",
    "        raise ValueError(\"Cannot compare with non-InventoryItem\")\n",
    "    \n",
    "    def __gte__(self, other):\n",
    "        if isinstance(other, InventoryItem):\n",
    "            return self.__gt__(other) or self.__eq__(other)\n",
    "        raise ValueError(\"Cannot compare with non-InventoryItem\")\n",
    "\n",
    "item1 = InventoryItem(\"Laptop\", 5)\n",
    "item2 = InventoryItem(\"Desktop\", 3)\n",
    "item2 = InventoryItem(\"CPU\", 3)\n",
    "\n",
    "result_add = item1 + item2 \n",
    "print(result_add)\n",
    "result_sub = item1 - item2\n",
    "print(result_sub)\n",
    "result_mul = item1 * 2\n",
    "print(result_mul)\n",
    "result_div = item1 / 2\n",
    "print(result_div)\n"
   ]
  },
  {
   "cell_type": "code",
   "execution_count": null,
   "metadata": {},
   "outputs": [],
   "source": []
  }
 ],
 "metadata": {
  "kernelspec": {
   "display_name": "venv",
   "language": "python",
   "name": "python3"
  },
  "language_info": {
   "codemirror_mode": {
    "name": "ipython",
    "version": 3
   },
   "file_extension": ".py",
   "mimetype": "text/x-python",
   "name": "python",
   "nbconvert_exporter": "python",
   "pygments_lexer": "ipython3",
   "version": "3.12.3"
  }
 },
 "nbformat": 4,
 "nbformat_minor": 2
}
