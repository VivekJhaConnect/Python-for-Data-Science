{
 "cells": [
  {
   "cell_type": "code",
   "execution_count": 1,
   "metadata": {},
   "outputs": [],
   "source": [
    "import threading"
   ]
  },
  {
   "cell_type": "code",
   "execution_count": 5,
   "metadata": {},
   "outputs": [
    {
     "name": "stdout",
     "output_type": "stream",
     "text": [
      "<_MainThread(MainThread, started 21100)>\n",
      "MainThread\n",
      "21100\n",
      "True\n"
     ]
    }
   ],
   "source": [
    "print(threading.current_thread())\n",
    "print(threading.current_thread().name)\n",
    "print(threading.current_thread().ident)\n",
    "print(threading.current_thread().is_alive())"
   ]
  },
  {
   "cell_type": "code",
   "execution_count": 4,
   "metadata": {},
   "outputs": [],
   "source": [
    "def test(id):\n",
    "    print(\"This is my test id %d\" % id)"
   ]
  },
  {
   "cell_type": "code",
   "execution_count": 5,
   "metadata": {},
   "outputs": [
    {
     "name": "stdout",
     "output_type": "stream",
     "text": [
      "This is my test id 10\n"
     ]
    }
   ],
   "source": [
    "test(10)"
   ]
  },
  {
   "cell_type": "code",
   "execution_count": 6,
   "metadata": {},
   "outputs": [],
   "source": [
    "thred = [threading.Thread(target=test, args=(i,)) for i in [10,1,3]]\n"
   ]
  },
  {
   "cell_type": "code",
   "execution_count": 8,
   "metadata": {},
   "outputs": [
    {
     "data": {
      "text/plain": [
       "[<Thread(Thread-33 (test), initial)>,\n",
       " <Thread(Thread-34 (test), initial)>,\n",
       " <Thread(Thread-35 (test), initial)>]"
      ]
     },
     "execution_count": 8,
     "metadata": {},
     "output_type": "execute_result"
    }
   ],
   "source": [
    "thred"
   ]
  },
  {
   "cell_type": "code",
   "execution_count": 9,
   "metadata": {},
   "outputs": [
    {
     "name": "stdout",
     "output_type": "stream",
     "text": [
      "This is my test id 10This is my test id 1\n",
      "\n",
      "This is my test id 3\n"
     ]
    }
   ],
   "source": [
    "for t in thred:\n",
    "    t.start()"
   ]
  },
  {
   "cell_type": "code",
   "execution_count": 10,
   "metadata": {},
   "outputs": [],
   "source": [
    "import urllib.request\n",
    "\n",
    "def file_download(url, file_name):\n",
    "    urllib.request.urlretrieve(url, file_name)"
   ]
  },
  {
   "cell_type": "code",
   "execution_count": 11,
   "metadata": {},
   "outputs": [],
   "source": [
    "file_download('https://raw.githubusercontent.com/itsfoss/text-files/master/agatha.txt', 'test3.txt')"
   ]
  },
  {
   "cell_type": "code",
   "execution_count": 13,
   "metadata": {},
   "outputs": [
    {
     "data": {
      "text/plain": [
       "['https://raw.githubusercontent.com/itsfoss/text-files/master/agatha.txt',\n",
       " 'https://raw.githubusercontent.com/itsfoss/text-files/master/sherlock.txt',\n",
       " 'https://raw.githubusercontent.com/itsfoss/text-files/master/sample_log_file.txt']"
      ]
     },
     "execution_count": 13,
     "metadata": {},
     "output_type": "execute_result"
    }
   ],
   "source": [
    "url_list = ['https://raw.githubusercontent.com/itsfoss/text-files/master/agatha.txt',\n",
    "            'https://raw.githubusercontent.com/itsfoss/text-files/master/sherlock.txt',\n",
    "            'https://raw.githubusercontent.com/itsfoss/text-files/master/sample_log_file.txt']\n",
    "url_list"
   ]
  },
  {
   "cell_type": "code",
   "execution_count": 14,
   "metadata": {},
   "outputs": [],
   "source": [
    "data_file_list = ['data1.txt', 'data2.txt', 'data3.txt']"
   ]
  },
  {
   "cell_type": "code",
   "execution_count": 17,
   "metadata": {},
   "outputs": [
    {
     "data": {
      "text/plain": [
       "[<Thread(Thread-154 (file_download), initial)>,\n",
       " <Thread(Thread-155 (file_download), initial)>,\n",
       " <Thread(Thread-156 (file_download), initial)>]"
      ]
     },
     "execution_count": 17,
     "metadata": {},
     "output_type": "execute_result"
    }
   ],
   "source": [
    "thread2 = [threading.Thread(target=file_download, args=(url_list[i], data_file_list[i])) for i in range(len(url_list))]\n",
    "thread2"
   ]
  },
  {
   "cell_type": "code",
   "execution_count": 18,
   "metadata": {},
   "outputs": [],
   "source": [
    "for t in thread2:\n",
    "    t.start()"
   ]
  },
  {
   "cell_type": "code",
   "execution_count": 19,
   "metadata": {},
   "outputs": [],
   "source": [
    "import time"
   ]
  },
  {
   "cell_type": "code",
   "execution_count": 24,
   "metadata": {},
   "outputs": [],
   "source": [
    "def test2(x):\n",
    "    for i in range(10):\n",
    "        print(\"Test print the value of x %d and print the value of i %d\" %(x, i))\n",
    "        time.sleep(1)"
   ]
  },
  {
   "cell_type": "code",
   "execution_count": 25,
   "metadata": {},
   "outputs": [
    {
     "name": "stdout",
     "output_type": "stream",
     "text": [
      "Test print the value of x 5 and print the value of i 0\n",
      "Test print the value of x 5 and print the value of i 1\n",
      "Test print the value of x 5 and print the value of i 2\n",
      "Test print the value of x 5 and print the value of i 3\n",
      "Test print the value of x 5 and print the value of i 4\n",
      "Test print the value of x 5 and print the value of i 5\n",
      "Test print the value of x 5 and print the value of i 6\n",
      "Test print the value of x 5 and print the value of i 7\n",
      "Test print the value of x 5 and print the value of i 8\n",
      "Test print the value of x 5 and print the value of i 9\n"
     ]
    }
   ],
   "source": [
    "test2(5)"
   ]
  },
  {
   "cell_type": "code",
   "execution_count": 26,
   "metadata": {},
   "outputs": [],
   "source": [
    "thread2 = [threading.Thread(target=test2, args=(i,)) for i in [100,10,20,5]]"
   ]
  },
  {
   "cell_type": "code",
   "execution_count": 27,
   "metadata": {},
   "outputs": [
    {
     "name": "stdout",
     "output_type": "stream",
     "text": [
      "Test print the value of x 100 and print the value of i 0\n",
      "Test print the value of x 10 and print the value of i 0\n",
      "Test print the value of x 20 and print the value of i 0\n",
      "Test print the value of x 5 and print the value of i 0\n"
     ]
    },
    {
     "name": "stdout",
     "output_type": "stream",
     "text": [
      "Test print the value of x 100 and print the value of i 1\n",
      "Test print the value of x 5 and print the value of i 1\n",
      "Test print the value of x 10 and print the value of i 1\n",
      "Test print the value of x 20 and print the value of i 1\n",
      "Test print the value of x 100 and print the value of i 2\n",
      "Test print the value of x 20 and print the value of i 2\n",
      "Test print the value of x 10 and print the value of i 2\n",
      "Test print the value of x 5 and print the value of i 2\n",
      "Test print the value of x 100 and print the value of i 3\n",
      "Test print the value of x 5 and print the value of i 3\n",
      "Test print the value of x 10 and print the value of i 3\n",
      "Test print the value of x 20 and print the value of i 3\n",
      "Test print the value of x 100 and print the value of i 4\n",
      "Test print the value of x 5 and print the value of i 4\n",
      "Test print the value of x 10 and print the value of i 4\n",
      "Test print the value of x 20 and print the value of i 4\n",
      "Test print the value of x 100 and print the value of i 5\n",
      "Test print the value of x 5 and print the value of i 5\n",
      "Test print the value of x 10 and print the value of i 5\n",
      "Test print the value of x 20 and print the value of i 5\n",
      "Test print the value of x 100 and print the value of i 6\n",
      "Test print the value of x 5 and print the value of i 6\n",
      "Test print the value of x 10 and print the value of i 6\n",
      "Test print the value of x 20 and print the value of i 6\n",
      "Test print the value of x 100 and print the value of i 7\n",
      "Test print the value of x 5 and print the value of i 7\n",
      "Test print the value of x 10 and print the value of i 7\n",
      "Test print the value of x 20 and print the value of i 7\n",
      "Test print the value of x 100 and print the value of i 8\n",
      "Test print the value of x 5 and print the value of i 8\n",
      "Test print the value of x 10 and print the value of i 8\n",
      "Test print the value of x 20 and print the value of i 8\n",
      "Test print the value of x 100 and print the value of i 9\n",
      "Test print the value of x 5 and print the value of i 9\n",
      "Test print the value of x 10 and print the value of i 9\n",
      "Test print the value of x 20 and print the value of i 9\n"
     ]
    }
   ],
   "source": [
    "for t in thread2:\n",
    "    t.start()"
   ]
  },
  {
   "cell_type": "code",
   "execution_count": 32,
   "metadata": {},
   "outputs": [
    {
     "name": "stdout",
     "output_type": "stream",
     "text": [
      "Value of x 1 and value of shared_var 1 \n"
     ]
    },
    {
     "name": "stdout",
     "output_type": "stream",
     "text": [
      "Value of x 2 and value of shared_var 2 \n",
      "Value of x 3 and value of shared_var 3 \n",
      "Value of x 4 and value of shared_var 4 \n",
      "Value of x 4 and value of shared_var 5 \n",
      "Value of x 5 and value of shared_var 6 \n"
     ]
    }
   ],
   "source": [
    "shared_var = 0\n",
    "lock_var = threading.Lock()\n",
    "\n",
    "def test3(x):\n",
    "    global shared_var\n",
    "    with lock_var:\n",
    "        shared_var = shared_var+1\n",
    "        print(\"Value of x %d and value of shared_var %d \"%(x, shared_var))\n",
    "        time.sleep(1)\n",
    "\n",
    "thread4 = [threading.Thread(target=test3, args=(i,)) for i in [1,2,3,4,4,5]]\n",
    "for t in thread4:\n",
    "    t.start()"
   ]
  },
  {
   "cell_type": "code",
   "execution_count": 29,
   "metadata": {},
   "outputs": [
    {
     "name": "stdout",
     "output_type": "stream",
     "text": [
      "Value of x 1 and value of shared_var 1 \n"
     ]
    }
   ],
   "source": [
    "test3(1)"
   ]
  },
  {
   "cell_type": "code",
   "execution_count": 30,
   "metadata": {},
   "outputs": [
    {
     "name": "stdout",
     "output_type": "stream",
     "text": [
      "Value of x 4 and value of shared_var 2 \n"
     ]
    }
   ],
   "source": [
    "test3(4)"
   ]
  },
  {
   "cell_type": "code",
   "execution_count": null,
   "metadata": {},
   "outputs": [],
   "source": []
  }
 ],
 "metadata": {
  "kernelspec": {
   "display_name": "venv",
   "language": "python",
   "name": "python3"
  },
  "language_info": {
   "codemirror_mode": {
    "name": "ipython",
    "version": 3
   },
   "file_extension": ".py",
   "mimetype": "text/x-python",
   "name": "python",
   "nbconvert_exporter": "python",
   "pygments_lexer": "ipython3",
   "version": "3.12.3"
  }
 },
 "nbformat": 4,
 "nbformat_minor": 2
}
