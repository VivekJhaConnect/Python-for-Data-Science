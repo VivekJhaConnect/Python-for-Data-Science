{
 "cells": [
  {
   "cell_type": "markdown",
   "metadata": {},
   "source": [
    "### Asyncio"
   ]
  },
  {
   "cell_type": "code",
   "execution_count": 1,
   "metadata": {},
   "outputs": [],
   "source": [
    "import asyncio\n",
    "import sys"
   ]
  },
  {
   "cell_type": "code",
   "execution_count": 5,
   "metadata": {},
   "outputs": [
    {
     "ename": "SyntaxError",
     "evalue": "'await' outside async function (4256788437.py, line 29)",
     "output_type": "error",
     "traceback": [
      "\u001b[1;36m  Cell \u001b[1;32mIn[5], line 29\u001b[1;36m\u001b[0m\n\u001b[1;33m    await code\u001b[0m\n\u001b[1;37m    ^\u001b[0m\n\u001b[1;31mSyntaxError\u001b[0m\u001b[1;31m:\u001b[0m 'await' outside async function\n"
     ]
    }
   ],
   "source": [
    "async def foo():\n",
    "    print(\"Starting foo\")\n",
    "    await asyncio.sleep(2.0)\n",
    "    print(\"Ending foo\")\n",
    "\n",
    "async def bar():\n",
    "    print(\"Starting bar\")\n",
    "    await asyncio.sleep(4.0)\n",
    "    print(\"Ending bar\")\n",
    "\n",
    "async def main_await():\n",
    "    print(\"starting bar\")\n",
    "    await foo()\n",
    "    print(\"ending bar\")\n",
    "    return 0\n",
    "\n",
    "async def main_future() -> int:\n",
    "    task_foo = asyncio.create_task(foo())\n",
    "    task_bar = asyncio.create_task(bar())\n",
    "    ret_foo = await task_foo\n",
    "    print(f\"foo returned: {ret_foo}\")\n",
    "    ret_bar = await task_bar\n",
    "    print(f\"bar returned: {ret_bar}\")\n",
    "    return 0\n",
    "\n",
    "def main() -> None:\n",
    "    # code = asyncio.run(main_await())\n",
    "    code = asyncio.run(main_future())\n",
    "    await code\n",
    "    print(f\"main returned: {code}\")\n",
    "    sys.exit(0)\n",
    "\n",
    "if __name__ == \"__main__\":\n",
    "    main()"
   ]
  },
  {
   "cell_type": "code",
   "execution_count": null,
   "metadata": {},
   "outputs": [],
   "source": []
  }
 ],
 "metadata": {
  "kernelspec": {
   "display_name": "venv",
   "language": "python",
   "name": "python3"
  },
  "language_info": {
   "codemirror_mode": {
    "name": "ipython",
    "version": 3
   },
   "file_extension": ".py",
   "mimetype": "text/x-python",
   "name": "python",
   "nbconvert_exporter": "python",
   "pygments_lexer": "ipython3",
   "version": "3.12.3"
  }
 },
 "nbformat": 4,
 "nbformat_minor": 2
}
