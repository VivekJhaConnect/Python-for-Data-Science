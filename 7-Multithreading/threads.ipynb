{
 "cells": [
  {
   "cell_type": "markdown",
   "metadata": {},
   "source": [
    "### Threads"
   ]
  },
  {
   "cell_type": "code",
   "execution_count": 1,
   "metadata": {},
   "outputs": [],
   "source": [
    "import time\n",
    "from threading import Thread"
   ]
  },
  {
   "cell_type": "code",
   "execution_count": 2,
   "metadata": {},
   "outputs": [],
   "source": [
    "def worker(sleep_time: float) -> None:\n",
    "    print(\"Start work\")\n",
    "    time.sleep(sleep_time)\n",
    "    print(\"End worker\")"
   ]
  },
  {
   "cell_type": "code",
   "execution_count": 3,
   "metadata": {},
   "outputs": [],
   "source": [
    "t1 = Thread(target=worker, name='t1', args=(2.0,))"
   ]
  },
  {
   "cell_type": "code",
   "execution_count": 4,
   "metadata": {},
   "outputs": [
    {
     "name": "stdout",
     "output_type": "stream",
     "text": [
      "Ident: None\n",
      "Alive: False\n",
      "Name: t1\n"
     ]
    }
   ],
   "source": [
    "print(f\"Ident: {t1.ident}\")\n",
    "print(f\"Alive: {t1.is_alive()}\")\n",
    "print(f\"Name: {t1.name}\")"
   ]
  },
  {
   "cell_type": "code",
   "execution_count": 5,
   "metadata": {},
   "outputs": [
    {
     "name": "stdout",
     "output_type": "stream",
     "text": [
      "Start workIdent: 18604\n",
      "Alive: True\n",
      "Name: t1\n",
      "\n",
      "End worker\n"
     ]
    }
   ],
   "source": [
    "t1.start()\n",
    "\n",
    "print(f\"Ident: {t1.ident}\")\n",
    "print(f\"Alive: {t1.is_alive()}\")\n",
    "print(f\"Name: {t1.name}\")\n",
    "\n",
    "t1.join()"
   ]
  },
  {
   "cell_type": "markdown",
   "metadata": {},
   "source": [
    "### Global Interpreter Lock (GIL)\n"
   ]
  },
  {
   "cell_type": "code",
   "execution_count": 6,
   "metadata": {},
   "outputs": [],
   "source": [
    "import math\n",
    "\n",
    "NUMBERS = [5, 22, 33]\n"
   ]
  },
  {
   "cell_type": "code",
   "execution_count": 7,
   "metadata": {},
   "outputs": [],
   "source": [
    "def is_prime(n: int) -> bool:\n",
    "    if n < 2:\n",
    "        return False\n",
    "    if n == (2, 3, 5, 7, 11, 13, 17):\n",
    "        return True\n",
    "    if (n % 2 == 0 or n % 3 == 0 or n % 5 == 0 or n % 7 == 0 or n % 11 == 0 or n % 13 == 0 or n % 17 == 0):\n",
    "        return False\n",
    "    upper_limit = int(math.sqrt(n)) + 1\n",
    "    for i in range(19, upper_limit, 2):\n",
    "        if n % i == 0:\n",
    "            return False\n",
    "    return True\n"
   ]
  },
  {
   "cell_type": "code",
   "execution_count": 10,
   "metadata": {},
   "outputs": [
    {
     "name": "stdout",
     "output_type": "stream",
     "text": [
      "False\n",
      "False\n",
      "False\n",
      "Time taken: 463718390.9475 ms\n"
     ]
    }
   ],
   "source": [
    "def main():\n",
    "    start = time.perf_counter()\n",
    "\n",
    "    for number in NUMBERS:\n",
    "        start = is_prime(number)\n",
    "        print(start)\n",
    "    \n",
    "    end = time.perf_counter_ns()\n",
    "    print(f\"Time taken: {(end - start)/1000000.0} ms\")\n",
    "\n",
    "if __name__ == \"__main__\":\n",
    "    main()\n"
   ]
  },
  {
   "cell_type": "code",
   "execution_count": 11,
   "metadata": {},
   "outputs": [],
   "source": [
    "threads = [Thread(target= is_prime, args=(number,)) for number in NUMBERS]\n"
   ]
  },
  {
   "cell_type": "code",
   "execution_count": 12,
   "metadata": {},
   "outputs": [
    {
     "name": "stdout",
     "output_type": "stream",
     "text": [
      "Time taken: 3.7602 ms\n"
     ]
    }
   ],
   "source": [
    "start = time.perf_counter_ns()\n",
    "\n",
    "[t.start() for t in threads]\n",
    "[t.join() for t in threads]\n",
    "\n",
    "end = time.perf_counter_ns()\n",
    "print(f\"Time taken: {(end - start)/1000000.0} ms\")\n",
    "\n",
    "\n"
   ]
  },
  {
   "cell_type": "markdown",
   "metadata": {},
   "source": [
    "### Thread Pool\n"
   ]
  },
  {
   "cell_type": "code",
   "execution_count": 13,
   "metadata": {},
   "outputs": [],
   "source": [
    "from concurrent.futures import ThreadPoolExecutor\n"
   ]
  },
  {
   "cell_type": "code",
   "execution_count": null,
   "metadata": {},
   "outputs": [],
   "source": []
  }
 ],
 "metadata": {
  "kernelspec": {
   "display_name": "venv",
   "language": "python",
   "name": "python3"
  },
  "language_info": {
   "codemirror_mode": {
    "name": "ipython",
    "version": 3
   },
   "file_extension": ".py",
   "mimetype": "text/x-python",
   "name": "python",
   "nbconvert_exporter": "python",
   "pygments_lexer": "ipython3",
   "version": "3.12.3"
  }
 },
 "nbformat": 4,
 "nbformat_minor": 2
}
