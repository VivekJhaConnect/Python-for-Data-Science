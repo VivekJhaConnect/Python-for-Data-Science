{
 "cells": [
  {
   "cell_type": "markdown",
   "metadata": {},
   "source": [
    "How File I/O is done\n",
    "Writing to a new text file\n",
    "What is open()?\n",
    "append()\n",
    "Writing many lines\n",
    "Saving a file\n",
    "Reading a file -> read() and readline()\n",
    "Using context manager -> with()\n",
    "Reading big file in chunks\n",
    "Seek and tell\n",
    "Working with Binary file\n",
    "Serialization and Deserialization\n",
    "JSON module -> dump() and load()\n",
    "Serialization and Deserialization of tuple, nested dictionary and custom object\n",
    "Pickling\n",
    "Pickle vs JSON\n"
   ]
  },
  {
   "cell_type": "markdown",
   "metadata": {},
   "source": []
  }
 ],
 "metadata": {
  "language_info": {
   "name": "python"
  }
 },
 "nbformat": 4,
 "nbformat_minor": 2
}
