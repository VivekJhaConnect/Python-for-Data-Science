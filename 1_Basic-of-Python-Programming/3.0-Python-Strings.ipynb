{
 "cells": [
  {
   "cell_type": "markdown",
   "metadata": {},
   "source": [
    "- Introduction (00:00:00 – 00:09:08)\n",
    "- Solving Loop problems (00:00:08 – 00:47:10)\n",
    "- Break, continue, pass statement in loops (00:47:10 – 01:06:42)\n",
    "- Strings (01:06:42 – 1:14:15)\n",
    "- String indexing (01:14:15 – 01:18:14)\n",
    "- String slicing (01:18:14 – 01:27:06)\n",
    "- Edit and delete a string (01:27:06 – 01:32:14)\n",
    "- Operations on String (01:32:14 – 01:47:24)\n",
    "- Common String functions (01:47:14 – 02:22:53)\n"
   ]
  },
  {
   "cell_type": "markdown",
   "metadata": {},
   "source": []
  }
 ],
 "metadata": {
  "language_info": {
   "name": "python"
  }
 },
 "nbformat": 4,
 "nbformat_minor": 2
}
