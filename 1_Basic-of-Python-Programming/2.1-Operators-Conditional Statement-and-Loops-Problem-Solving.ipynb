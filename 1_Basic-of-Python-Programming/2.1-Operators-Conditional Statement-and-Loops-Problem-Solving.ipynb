{
 "cells": [
  {
   "cell_type": "markdown",
   "metadata": {},
   "source": [
    "#### Swapping Varibles"
   ]
  },
  {
   "cell_type": "code",
   "execution_count": 1,
   "metadata": {},
   "outputs": [
    {
     "name": "stdout",
     "output_type": "stream",
     "text": [
      "X is 30\n",
      "y is 20\n"
     ]
    }
   ],
   "source": [
    "x, y = 20, 30\n",
    "\n",
    "x, y = y, x\n",
    "\n",
    "print('X is', x)\n",
    "print('y is', y)"
   ]
  },
  {
   "cell_type": "markdown",
   "metadata": {},
   "source": [
    "#### Swap data using XOR operator"
   ]
  },
  {
   "cell_type": "code",
   "execution_count": 2,
   "metadata": {},
   "outputs": [
    {
     "name": "stdout",
     "output_type": "stream",
     "text": [
      "x is: 30\n",
      "y is: 20\n"
     ]
    }
   ],
   "source": [
    "x = 20\n",
    "y = 30\n",
    "\n",
    "# Step one\n",
    "x ^= y\n",
    "\n",
    "# Step two\n",
    "y ^= x\n",
    "\n",
    "# Step three\n",
    "x ^= y\n",
    "\n",
    "print(f'x is: {x}')\n",
    "print(f'y is: {y}')"
   ]
  },
  {
   "cell_type": "code",
   "execution_count": null,
   "metadata": {},
   "outputs": [],
   "source": []
  }
 ],
 "metadata": {
  "kernelspec": {
   "display_name": "Python 3",
   "language": "python",
   "name": "python3"
  },
  "language_info": {
   "codemirror_mode": {
    "name": "ipython",
    "version": 3
   },
   "file_extension": ".py",
   "mimetype": "text/x-python",
   "name": "python",
   "nbconvert_exporter": "python",
   "pygments_lexer": "ipython3",
   "version": "3.12.3"
  }
 },
 "nbformat": 4,
 "nbformat_minor": 2
}
