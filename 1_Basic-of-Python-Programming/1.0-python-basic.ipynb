{
 "cells": [
  {
   "cell_type": "markdown",
   "metadata": {},
   "source": [
    "## Varibles"
   ]
  },
  {
   "cell_type": "markdown",
   "metadata": {},
   "source": [
    "- About Python (7:00 – 24:30)\n",
    "- Python Output/print function (24:30 – 38:37)\n",
    "- Python Data Types (38:37 – 51:25)\n",
    "- Python Variables (51:25 – 1:04:49)\n",
    "- Python comments (1:04:49 – 1:09:09)\n",
    "- Python Keywords and Identifiers (1:09:09 – 1:22:38)\n",
    "- Python User Input (1:22:38 – 1:35:00)\n",
    "- Python Type conversion (1:35:00 – 1:47:29)\n",
    "- Python Literals (1:47:29 – 2:10:22)\n"
   ]
  },
  {
   "cell_type": "markdown",
   "metadata": {},
   "source": [
    "### Output/print function"
   ]
  },
  {
   "cell_type": "code",
   "execution_count": 3,
   "metadata": {},
   "outputs": [
    {
     "name": "stdout",
     "output_type": "stream",
     "text": [
      "1 3 6 7 "
     ]
    }
   ],
   "source": [
    "list1 = [1, 3, 6, 7]\n",
    "for number in list1:\n",
    "    print(number, end=\" \")"
   ]
  },
  {
   "cell_type": "code",
   "execution_count": 4,
   "metadata": {},
   "outputs": [
    {
     "name": "stdout",
     "output_type": "stream",
     "text": [
      "12/20/2024\n"
     ]
    }
   ],
   "source": [
    "print('12', '20', '2024', sep='/')"
   ]
  },
  {
   "cell_type": "markdown",
   "metadata": {},
   "source": [
    "### Python Data Type"
   ]
  },
  {
   "cell_type": "code",
   "execution_count": 2,
   "metadata": {},
   "outputs": [
    {
     "name": "stdout",
     "output_type": "stream",
     "text": [
      "10\n"
     ]
    },
    {
     "data": {
      "text/plain": [
       "int"
      ]
     },
     "execution_count": 2,
     "metadata": {},
     "output_type": "execute_result"
    }
   ],
   "source": [
    "# Int Varible\n",
    "\n",
    "int_var = 10\n",
    "print(int_var)\n",
    "type(int_var)"
   ]
  },
  {
   "cell_type": "code",
   "execution_count": 4,
   "metadata": {},
   "outputs": [
    {
     "name": "stdout",
     "output_type": "stream",
     "text": [
      "10.0\n"
     ]
    },
    {
     "data": {
      "text/plain": [
       "float"
      ]
     },
     "execution_count": 4,
     "metadata": {},
     "output_type": "execute_result"
    }
   ],
   "source": [
    "# Float Varible\n",
    "\n",
    "float_var = 10.0\n",
    "print(float_var)\n",
    "type(float_var)"
   ]
  },
  {
   "cell_type": "code",
   "execution_count": 5,
   "metadata": {},
   "outputs": [
    {
     "name": "stdout",
     "output_type": "stream",
     "text": [
      "Vivek Jha\n"
     ]
    },
    {
     "data": {
      "text/plain": [
       "str"
      ]
     },
     "execution_count": 5,
     "metadata": {},
     "output_type": "execute_result"
    }
   ],
   "source": [
    "# Int Varible\n",
    "\n",
    "str_var = \"Vivek Jha\"\n",
    "print(str_var)\n",
    "type(str_var)"
   ]
  },
  {
   "cell_type": "code",
   "execution_count": 6,
   "metadata": {},
   "outputs": [
    {
     "name": "stdout",
     "output_type": "stream",
     "text": [
      "True\n"
     ]
    },
    {
     "data": {
      "text/plain": [
       "bool"
      ]
     },
     "execution_count": 6,
     "metadata": {},
     "output_type": "execute_result"
    }
   ],
   "source": [
    "# Int Varible\n",
    "\n",
    "bool_var = True\n",
    "print(bool_var)\n",
    "type(bool_var)"
   ]
  },
  {
   "cell_type": "code",
   "execution_count": 8,
   "metadata": {},
   "outputs": [
    {
     "name": "stdout",
     "output_type": "stream",
     "text": [
      "(5+9j)\n",
      "5.0\n",
      "9.0\n"
     ]
    }
   ],
   "source": [
    "# Define Complex Number\n",
    "\n",
    "complex_var = 5+ 9J\n",
    "print(complex_var)\n",
    "type(complex_var)\n",
    "print(complex_var.real)\n",
    "print(complex_var.imag)"
   ]
  },
  {
   "cell_type": "code",
   "execution_count": 38,
   "metadata": {},
   "outputs": [
    {
     "name": "stdout",
     "output_type": "stream",
     "text": [
      "10\n"
     ]
    }
   ],
   "source": [
    "# Take imput form Console\n",
    "input_num = int(input())\n",
    "print(input_num)"
   ]
  },
  {
   "cell_type": "markdown",
   "metadata": {},
   "source": [
    "### Mutability and Immutability"
   ]
  },
  {
   "cell_type": "markdown",
   "metadata": {},
   "source": [
    "##### Python String Support forware and backard side indexing\n",
    "\n",
    "#### For Example\n",
    "foraware Indexing = 0,1,2,3\n",
    "\n",
    "Text = a,b,c,d\n",
    "\n",
    "backware Indexing = -4,-3.-2,-1"
   ]
  },
  {
   "cell_type": "code",
   "execution_count": 16,
   "metadata": {},
   "outputs": [
    {
     "name": "stdout",
     "output_type": "stream",
     "text": [
      "i\n",
      "i\n"
     ]
    }
   ],
   "source": [
    "name = 'Vivek'\n",
    "print(name[1])\n",
    "print(name[-4])"
   ]
  },
  {
   "cell_type": "code",
   "execution_count": 18,
   "metadata": {},
   "outputs": [
    {
     "name": "stdout",
     "output_type": "stream",
     "text": [
      "[1, 2, 3, 4, 5, 'Vivek', 'Jha', True]\n",
      "[1, 2, 3, 4, 'Hello', 'Vivek', 'Jha', True]\n"
     ]
    }
   ],
   "source": [
    "list = [1,2,3,4,5,'Vivek','Jha',True]\n",
    "print(list)\n",
    "# In Mutable object we can chnage in the data, like:\n",
    "list[4] = \"Hello\"\n",
    "print(list)"
   ]
  },
  {
   "cell_type": "code",
   "execution_count": 19,
   "metadata": {},
   "outputs": [
    {
     "name": "stdout",
     "output_type": "stream",
     "text": [
      "Vivek\n"
     ]
    },
    {
     "ename": "TypeError",
     "evalue": "'str' object does not support item assignment",
     "output_type": "error",
     "traceback": [
      "\u001b[1;31m---------------------------------------------------------------------------\u001b[0m",
      "\u001b[1;31mTypeError\u001b[0m                                 Traceback (most recent call last)",
      "Cell \u001b[1;32mIn[19], line 4\u001b[0m\n\u001b[0;32m      2\u001b[0m \u001b[38;5;28mprint\u001b[39m(name)\n\u001b[0;32m      3\u001b[0m \u001b[38;5;66;03m# In Immutable object we can not chnage in the data, like:\u001b[39;00m\n\u001b[1;32m----> 4\u001b[0m \u001b[43mname\u001b[49m\u001b[43m[\u001b[49m\u001b[38;5;241;43m4\u001b[39;49m\u001b[43m]\u001b[49m \u001b[38;5;241m=\u001b[39m \u001b[38;5;124m'\u001b[39m\u001b[38;5;124mB\u001b[39m\u001b[38;5;124m'\u001b[39m\n\u001b[0;32m      5\u001b[0m \u001b[38;5;28mprint\u001b[39m(name)\n",
      "\u001b[1;31mTypeError\u001b[0m: 'str' object does not support item assignment"
     ]
    }
   ],
   "source": [
    "name = 'Vivek'\n",
    "print(name)\n",
    "# In Immutable object we can not chnage in the data, like:\n",
    "name[4] = 'B'\n",
    "print(name)"
   ]
  },
  {
   "cell_type": "markdown",
   "metadata": {},
   "source": [
    "#### Python Reserved Keywords"
   ]
  },
  {
   "cell_type": "code",
   "execution_count": 1,
   "metadata": {},
   "outputs": [
    {
     "name": "stdout",
     "output_type": "stream",
     "text": [
      "\n",
      "Here is a list of the Python keywords.  Enter any keyword to get more help.\n",
      "\n",
      "False               class               from                or\n",
      "None                continue            global              pass\n",
      "True                def                 if                  raise\n",
      "and                 del                 import              return\n",
      "as                  elif                in                  try\n",
      "assert              else                is                  while\n",
      "async               except              lambda              with\n",
      "await               finally             nonlocal            yield\n",
      "break               for                 not                 \n",
      "\n",
      "None\n"
     ]
    }
   ],
   "source": [
    "print(help('keywords'))"
   ]
  },
  {
   "cell_type": "markdown",
   "metadata": {},
   "source": [
    "#### Properties and Methods"
   ]
  },
  {
   "cell_type": "code",
   "execution_count": 2,
   "metadata": {},
   "outputs": [
    {
     "name": "stdout",
     "output_type": "stream",
     "text": [
      "['__add__', '__class__', '__contains__', '__delattr__', '__dir__', '__doc__', '__eq__', '__format__', '__ge__', '__getattribute__', '__getitem__', '__getnewargs__', '__getstate__', '__gt__', '__hash__', '__init__', '__init_subclass__', '__iter__', '__le__', '__len__', '__lt__', '__mod__', '__mul__', '__ne__', '__new__', '__reduce__', '__reduce_ex__', '__repr__', '__rmod__', '__rmul__', '__setattr__', '__sizeof__', '__str__', '__subclasshook__', 'capitalize', 'casefold', 'center', 'count', 'encode', 'endswith', 'expandtabs', 'find', 'format', 'format_map', 'index', 'isalnum', 'isalpha', 'isascii', 'isdecimal', 'isdigit', 'isidentifier', 'islower', 'isnumeric', 'isprintable', 'isspace', 'istitle', 'isupper', 'join', 'ljust', 'lower', 'lstrip', 'maketrans', 'partition', 'removeprefix', 'removesuffix', 'replace', 'rfind', 'rindex', 'rjust', 'rpartition', 'rsplit', 'rstrip', 'split', 'splitlines', 'startswith', 'strip', 'swapcase', 'title', 'translate', 'upper', 'zfill']\n"
     ]
    }
   ],
   "source": [
    "a = 'I love Python'\n",
    "print(dir(a))"
   ]
  },
  {
   "cell_type": "markdown",
   "metadata": {},
   "source": [
    "#### Open a Website Using Python"
   ]
  },
  {
   "cell_type": "code",
   "execution_count": 3,
   "metadata": {},
   "outputs": [
    {
     "name": "stdout",
     "output_type": "stream",
     "text": [
      "True\n"
     ]
    }
   ],
   "source": [
    "import webbrowser\n",
    "\n",
    "url = 'https://www.google.com'\n",
    "open_web = webbrowser.open(url)\n",
    "print(open_web)"
   ]
  },
  {
   "cell_type": "code",
   "execution_count": 4,
   "metadata": {},
   "outputs": [
    {
     "name": "stdout",
     "output_type": "stream",
     "text": [
      "True\n"
     ]
    }
   ],
   "source": [
    "import webbrowser\n",
    "\n",
    "url = 'https://www.google.com'\n",
    "\n",
    "# This opens a new tab in your browers\n",
    "webbrowser.open_new_tab(url)\n",
    "\n",
    "# This opens a new browser window\n",
    "open_web = webbrowser.open(url)\n",
    "print(open_web)"
   ]
  },
  {
   "cell_type": "markdown",
   "metadata": {},
   "source": [
    "### Memory Size Check"
   ]
  },
  {
   "cell_type": "code",
   "execution_count": 7,
   "metadata": {},
   "outputs": [
    {
     "name": "stdout",
     "output_type": "stream",
     "text": [
      "This momery size of a list is  104\n",
      "This momery size of a list is  472\n",
      "This momery size of a list is  80\n",
      "This momery size of a list is  184\n"
     ]
    }
   ],
   "source": [
    "import sys\n",
    "\n",
    "a = ['a', 'b', 'c', 'd', 'e']\n",
    "b = {1, 2, 3, 4, 5}\n",
    "c = ('apple', 'banana', 'cherry', 'date', 'elderberry')\n",
    "d = {'name': 'Vivek', 'age': 25, 'city': 'Bangalore'}\n",
    "\n",
    "print(f'This momery size of a list is ', sys.getsizeof(a))\n",
    "\n",
    "print(f'This momery size of a list is ', sys.getsizeof(b))\n",
    "\n",
    "print(f'This momery size of a list is ', sys.getsizeof(c))\n",
    "\n",
    "print(f'This momery size of a list is ', sys.getsizeof(d))"
   ]
  },
  {
   "cell_type": "markdown",
   "metadata": {},
   "source": [
    "#### Assertion"
   ]
  },
  {
   "cell_type": "code",
   "execution_count": 4,
   "metadata": {},
   "outputs": [
    {
     "ename": "AssertionError",
     "evalue": "Non-string items in the list",
     "output_type": "error",
     "traceback": [
      "\u001b[1;31m---------------------------------------------------------------------------\u001b[0m",
      "\u001b[1;31mAssertionError\u001b[0m                            Traceback (most recent call last)",
      "Cell \u001b[1;32mIn[4], line 5\u001b[0m\n\u001b[0;32m      3\u001b[0m lower_name \u001b[38;5;241m=\u001b[39m []\n\u001b[0;32m      4\u001b[0m \u001b[38;5;28;01mfor\u001b[39;00m item \u001b[38;5;129;01min\u001b[39;00m name:\n\u001b[1;32m----> 5\u001b[0m     \u001b[38;5;28;01massert\u001b[39;00m \u001b[38;5;28mtype\u001b[39m(item) \u001b[38;5;241m==\u001b[39m \u001b[38;5;28mstr\u001b[39m, \u001b[38;5;124m'\u001b[39m\u001b[38;5;124mNon-string items in the list\u001b[39m\u001b[38;5;124m'\u001b[39m\n\u001b[0;32m      6\u001b[0m     \u001b[38;5;28;01mif\u001b[39;00m item\u001b[38;5;241m.\u001b[39mislower():\n\u001b[0;32m      7\u001b[0m         lower_name\u001b[38;5;241m.\u001b[39mappend(item)\n",
      "\u001b[1;31mAssertionError\u001b[0m: Non-string items in the list"
     ]
    }
   ],
   "source": [
    "name = ['vivek', 'Jha', 26]\n",
    "\n",
    "lower_name = []\n",
    "for item in name:\n",
    "    assert type(item) == str, 'Non-string items in the list'\n",
    "    if item.islower():\n",
    "        lower_name.append(item)\n",
    "\n",
    "print(lower_name)"
   ]
  },
  {
   "cell_type": "code",
   "execution_count": 6,
   "metadata": {},
   "outputs": [
    {
     "name": "stdout",
     "output_type": "stream",
     "text": [
      "['vivek', 'jha']\n"
     ]
    }
   ],
   "source": [
    "name = ['vivek', 'jha']\n",
    "\n",
    "lower_name = []\n",
    "for item in name:\n",
    "    assert type(item) == str, 'Non-string items in the list'\n",
    "    if item.islower():\n",
    "        lower_name.append(item)\n",
    "\n",
    "print(lower_name)"
   ]
  },
  {
   "cell_type": "markdown",
   "metadata": {},
   "source": [
    "#### Print Colored Texts"
   ]
  },
  {
   "cell_type": "code",
   "execution_count": 1,
   "metadata": {},
   "outputs": [
    {
     "name": "stdout",
     "output_type": "stream",
     "text": [
      "('\\x1b[31m',) Warning: ('\\x1b[32m',)  Love Don't live here anymore\n"
     ]
    }
   ],
   "source": [
    "class Colurs():\n",
    "    Balck = '\\033[30m',\n",
    "    Red = '\\033[31m',\n",
    "    Green = '\\033[32m',\n",
    "    Yellow = '\\033[33m',\n",
    "    Blue = '\\033[34m',\n",
    "    Magenta = '\\033[35m',\n",
    "    Cyan = '\\033[36m',\n",
    "    White = '\\033[37m',\n",
    "    Reset = '\\033[0m'\n",
    "\n",
    "print(f'{Colurs.Red} Warning: {Colurs.Green} ', 'Love Don\\'t live here anymore')"
   ]
  },
  {
   "cell_type": "code",
   "execution_count": null,
   "metadata": {},
   "outputs": [],
   "source": []
  }
 ],
 "metadata": {
  "kernelspec": {
   "display_name": "venv",
   "language": "python",
   "name": "python3"
  },
  "language_info": {
   "codemirror_mode": {
    "name": "ipython",
    "version": 3
   },
   "file_extension": ".py",
   "mimetype": "text/x-python",
   "name": "python",
   "nbconvert_exporter": "python",
   "pygments_lexer": "ipython3",
   "version": "3.12.3"
  }
 },
 "nbformat": 4,
 "nbformat_minor": 2
}
