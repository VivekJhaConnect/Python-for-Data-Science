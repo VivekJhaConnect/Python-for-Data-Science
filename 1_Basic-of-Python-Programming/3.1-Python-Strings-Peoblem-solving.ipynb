{
 "cells": [
  {
   "cell_type": "markdown",
   "metadata": {},
   "source": [
    "### Most Frequent in a String"
   ]
  },
  {
   "cell_type": "code",
   "execution_count": 3,
   "metadata": {},
   "outputs": [
    {
     "name": "stdout",
     "output_type": "stream",
     "text": [
      "Ths ,pist frequebt letter in fecklessness is 's'\n"
     ]
    }
   ],
   "source": [
    "a = 'fecklessness'\n",
    "\n",
    "most_frequent = max(a, key=a.count) \n",
    "print(f\"Ths most frequebt letter in {a} is '{most_frequent}'\")"
   ]
  },
  {
   "cell_type": "code",
   "execution_count": 4,
   "metadata": {},
   "outputs": [
    {
     "name": "stdout",
     "output_type": "stream",
     "text": [
      "[('s', 4)]\n"
     ]
    }
   ],
   "source": [
    "import collections\n",
    "\n",
    "a = 'fecklessness'\n",
    "\n",
    "print(collections.Counter(a).most_common(1))"
   ]
  },
  {
   "cell_type": "markdown",
   "metadata": {},
   "source": [
    "#### Find Index using Enumerate"
   ]
  },
  {
   "cell_type": "code",
   "execution_count": 2,
   "metadata": {},
   "outputs": [
    {
     "name": "stdout",
     "output_type": "stream",
     "text": [
      "The index of n is 4\n"
     ]
    }
   ],
   "source": [
    "SRE1 = 'string'\n",
    "\n",
    "for index, value in enumerate(SRE1):\n",
    "    if value == 'n':\n",
    "        print(f\"The index of n is {index}\") "
   ]
  },
  {
   "cell_type": "code",
   "execution_count": null,
   "metadata": {},
   "outputs": [],
   "source": []
  }
 ],
 "metadata": {
  "kernelspec": {
   "display_name": "venv",
   "language": "python",
   "name": "python3"
  },
  "language_info": {
   "codemirror_mode": {
    "name": "ipython",
    "version": 3
   },
   "file_extension": ".py",
   "mimetype": "text/x-python",
   "name": "python",
   "nbconvert_exporter": "python",
   "pygments_lexer": "ipython3",
   "version": "3.12.3"
  }
 },
 "nbformat": 4,
 "nbformat_minor": 2
}
