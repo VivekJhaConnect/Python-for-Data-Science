{
 "cells": [
  {
   "cell_type": "code",
   "execution_count": 1,
   "metadata": {},
   "outputs": [],
   "source": [
    "import abc \n",
    "\n",
    "class StudentDemo:\n",
    "    \n",
    "    @abc.abstractmethod\n",
    "    def std_details(self):\n",
    "        pass\n",
    "\n",
    "    @abc.abstractmethod\n",
    "    def std_assignment(self):\n",
    "        pass\n",
    "\n",
    "    @abc.abstractmethod\n",
    "    def std_marks(self):\n",
    "        pass"
   ]
  },
  {
   "cell_type": "code",
   "execution_count": 2,
   "metadata": {},
   "outputs": [],
   "source": [
    "class Class10(StudentDemo):\n",
    "    def std_details(self):\n",
    "        return \"This will return the details of Class10 Student\"\n",
    "    \n",
    "    def std_assignment(self):\n",
    "        return \"This will return about assignment\"\n",
    "\n",
    "    def std_marks(self):\n",
    "        return \"This will return about marks\""
   ]
  },
  {
   "cell_type": "code",
   "execution_count": 4,
   "metadata": {},
   "outputs": [],
   "source": [
    "class Class9(StudentDemo):\n",
    "    def std_details(self):\n",
    "        return \"This will return the details of Class9 Student\"\n",
    "    \n",
    "    def std_assignment(self):\n",
    "        return \"This will return about assignment of Class01 Student\"\n",
    "\n",
    "    # def std_marks(self):\n",
    "    #     return \"This will return about marks of Class 09 student\""
   ]
  },
  {
   "cell_type": "code",
   "execution_count": 5,
   "metadata": {},
   "outputs": [
    {
     "data": {
      "text/plain": [
       "'This will return about assignment'"
      ]
     },
     "execution_count": 5,
     "metadata": {},
     "output_type": "execute_result"
    }
   ],
   "source": [
    "class_10 = Class10()\n",
    "class_10.std_assignment()"
   ]
  },
  {
   "cell_type": "code",
   "execution_count": 6,
   "metadata": {},
   "outputs": [
    {
     "data": {
      "text/plain": [
       "'This will return the details of Class9 Student'"
      ]
     },
     "execution_count": 6,
     "metadata": {},
     "output_type": "execute_result"
    }
   ],
   "source": [
    "class_09 = Class9()\n",
    "class_09.std_details()"
   ]
  },
  {
   "cell_type": "code",
   "execution_count": null,
   "metadata": {},
   "outputs": [],
   "source": []
  }
 ],
 "metadata": {
  "kernelspec": {
   "display_name": "env",
   "language": "python",
   "name": "python3"
  },
  "language_info": {
   "codemirror_mode": {
    "name": "ipython",
    "version": 3
   },
   "file_extension": ".py",
   "mimetype": "text/x-python",
   "name": "python",
   "nbconvert_exporter": "python",
   "pygments_lexer": "ipython3",
   "version": "3.12.3"
  }
 },
 "nbformat": 4,
 "nbformat_minor": 2
}
