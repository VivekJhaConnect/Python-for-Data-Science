{
 "cells": [
  {
   "cell_type": "code",
   "execution_count": 1,
   "metadata": {},
   "outputs": [],
   "source": [
    "class StudentDemo:\n",
    "    def student_details(self, name, email_id, number):\n",
    "        print(name, email_id, number)"
   ]
  },
  {
   "cell_type": "code",
   "execution_count": 2,
   "metadata": {},
   "outputs": [
    {
     "name": "stdout",
     "output_type": "stream",
     "text": [
      "Vivek vivek@gmail.com 9696969696\n"
     ]
    }
   ],
   "source": [
    "demo = StudentDemo()\n",
    "demo.student_details('Vivek', 'vivek@gmail.com', 9696969696)"
   ]
  },
  {
   "cell_type": "code",
   "execution_count": 5,
   "metadata": {},
   "outputs": [],
   "source": [
    "class StudentDemo:\n",
    "    def student_details(self, name, email_id, number):\n",
    "        print(name, email_id, number)\n",
    "    \n",
    "    @staticmethod\n",
    "    def mentor(list_mentor):\n",
    "        print(list_mentor)\n",
    "\n",
    "    def mentor_class(self, mentor_list):\n",
    "        print(mentor_list)"
   ]
  },
  {
   "cell_type": "code",
   "execution_count": 7,
   "metadata": {},
   "outputs": [
    {
     "name": "stdout",
     "output_type": "stream",
     "text": [
      "['Vivek']\n"
     ]
    }
   ],
   "source": [
    "demo = StudentDemo()\n",
    "demo.mentor(['Vivek'])"
   ]
  },
  {
   "cell_type": "code",
   "execution_count": 4,
   "metadata": {},
   "outputs": [
    {
     "name": "stdout",
     "output_type": "stream",
     "text": [
      "['Vivek', 'Vikash']\n"
     ]
    }
   ],
   "source": [
    "StudentDemo.mentor([\"Vivek\", 'Vikash'])"
   ]
  },
  {
   "cell_type": "code",
   "execution_count": 10,
   "metadata": {},
   "outputs": [],
   "source": [
    "class StudentDemo2:\n",
    "    def student_details(self, name, email_id, number):\n",
    "        print(name, email_id, number)\n",
    "        self.mentor_class(['Vivek'])\n",
    "    \n",
    "    @staticmethod\n",
    "    def class_mail_id(email_id):\n",
    "        print(email_id)\n",
    "\n",
    "    @staticmethod\n",
    "    def mentor_class(list_mentor):\n",
    "        print(list_mentor)\n",
    "        StudentDemo2.class_mail_id([\"abc@gmail.com\"])\n",
    "\n",
    "    @classmethod\n",
    "    def class_method(cls, class_name):\n",
    "        cls.mentor_class([\"Jhaji\"])\n",
    "\n",
    "    def mentor(self, mentor_list):\n",
    "        print(mentor_list)"
   ]
  },
  {
   "cell_type": "code",
   "execution_count": 11,
   "metadata": {},
   "outputs": [],
   "source": [
    "demo = StudentDemo2()"
   ]
  },
  {
   "cell_type": "code",
   "execution_count": 12,
   "metadata": {},
   "outputs": [
    {
     "name": "stdout",
     "output_type": "stream",
     "text": [
      "Vivek abc@gmail.com 96969696\n",
      "['Vivek']\n",
      "['abc@gmail.com']\n"
     ]
    }
   ],
   "source": [
    "demo.student_details('Vivek', 'abc@gmail.com', 96969696)"
   ]
  },
  {
   "cell_type": "code",
   "execution_count": 13,
   "metadata": {},
   "outputs": [
    {
     "name": "stdout",
     "output_type": "stream",
     "text": [
      "['abc2@gmail.com']\n"
     ]
    }
   ],
   "source": [
    "demo.class_mail_id(['abc2@gmail.com'])"
   ]
  },
  {
   "cell_type": "code",
   "execution_count": null,
   "metadata": {},
   "outputs": [],
   "source": []
  }
 ],
 "metadata": {
  "kernelspec": {
   "display_name": "env",
   "language": "python",
   "name": "python3"
  },
  "language_info": {
   "codemirror_mode": {
    "name": "ipython",
    "version": 3
   },
   "file_extension": ".py",
   "mimetype": "text/x-python",
   "name": "python",
   "nbconvert_exporter": "python",
   "pygments_lexer": "ipython3",
   "version": "3.12.3"
  }
 },
 "nbformat": 4,
 "nbformat_minor": 2
}
