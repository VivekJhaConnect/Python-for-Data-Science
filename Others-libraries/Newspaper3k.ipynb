{
 "cells": [
  {
   "cell_type": "markdown",
   "metadata": {},
   "source": [
    "## Access News Using Python"
   ]
  },
  {
   "cell_type": "code",
   "execution_count": 1,
   "metadata": {},
   "outputs": [
    {
     "name": "stdout",
     "output_type": "stream",
     "text": [
      "Collecting newspaper3k\n",
      "  Downloading newspaper3k-0.2.8-py3-none-any.whl.metadata (11 kB)\n",
      "Requirement already satisfied: beautifulsoup4>=4.4.1 in c:\\users\\admin\\documents\\venv\\lib\\site-packages (from newspaper3k) (4.12.3)\n",
      "Requirement already satisfied: Pillow>=3.3.0 in c:\\users\\admin\\documents\\venv\\lib\\site-packages (from newspaper3k) (11.0.0)\n",
      "Requirement already satisfied: PyYAML>=3.11 in c:\\users\\admin\\documents\\venv\\lib\\site-packages (from newspaper3k) (6.0.2)\n",
      "Collecting cssselect>=0.9.2 (from newspaper3k)\n",
      "  Downloading cssselect-1.2.0-py2.py3-none-any.whl.metadata (2.2 kB)\n",
      "Collecting lxml>=3.6.0 (from newspaper3k)\n",
      "  Downloading lxml-5.3.0-cp312-cp312-win_amd64.whl.metadata (3.9 kB)\n",
      "Requirement already satisfied: nltk>=3.2.1 in c:\\users\\admin\\documents\\venv\\lib\\site-packages (from newspaper3k) (3.9.1)\n",
      "Requirement already satisfied: requests>=2.10.0 in c:\\users\\admin\\documents\\venv\\lib\\site-packages (from newspaper3k) (2.32.3)\n",
      "Collecting feedparser>=5.2.1 (from newspaper3k)\n",
      "  Downloading feedparser-6.0.11-py3-none-any.whl.metadata (2.4 kB)\n",
      "Collecting tldextract>=2.0.1 (from newspaper3k)\n",
      "  Downloading tldextract-5.1.3-py3-none-any.whl.metadata (11 kB)\n",
      "Collecting feedfinder2>=0.0.4 (from newspaper3k)\n",
      "  Downloading feedfinder2-0.0.4.tar.gz (3.3 kB)\n",
      "  Installing build dependencies: started\n",
      "  Installing build dependencies: finished with status 'done'\n",
      "  Getting requirements to build wheel: started\n",
      "  Getting requirements to build wheel: finished with status 'done'\n",
      "  Preparing metadata (pyproject.toml): started\n",
      "  Preparing metadata (pyproject.toml): finished with status 'done'\n",
      "Collecting jieba3k>=0.35.1 (from newspaper3k)\n",
      "  Downloading jieba3k-0.35.1.zip (7.4 MB)\n",
      "     ---------------------------------------- 0.0/7.4 MB ? eta -:--:--\n",
      "     ------------ --------------------------- 2.4/7.4 MB 12.2 MB/s eta 0:00:01\n",
      "     ----------------------------- ---------- 5.5/7.4 MB 14.0 MB/s eta 0:00:01\n",
      "     ---------------------------------------- 7.4/7.4 MB 13.5 MB/s eta 0:00:00\n",
      "  Installing build dependencies: started\n",
      "  Installing build dependencies: finished with status 'done'\n",
      "  Getting requirements to build wheel: started\n",
      "  Getting requirements to build wheel: finished with status 'done'\n",
      "  Preparing metadata (pyproject.toml): started\n",
      "  Preparing metadata (pyproject.toml): finished with status 'done'\n",
      "Requirement already satisfied: python-dateutil>=2.5.3 in c:\\users\\admin\\documents\\venv\\lib\\site-packages (from newspaper3k) (2.9.0.post0)\n",
      "Collecting tinysegmenter==0.3 (from newspaper3k)\n",
      "  Downloading tinysegmenter-0.3.tar.gz (16 kB)\n",
      "  Installing build dependencies: started\n",
      "  Installing build dependencies: finished with status 'done'\n",
      "  Getting requirements to build wheel: started\n",
      "  Getting requirements to build wheel: finished with status 'done'\n",
      "  Preparing metadata (pyproject.toml): started\n",
      "  Preparing metadata (pyproject.toml): finished with status 'done'\n",
      "Requirement already satisfied: soupsieve>1.2 in c:\\users\\admin\\documents\\venv\\lib\\site-packages (from beautifulsoup4>=4.4.1->newspaper3k) (2.6)\n",
      "Requirement already satisfied: six in c:\\users\\admin\\documents\\venv\\lib\\site-packages (from feedfinder2>=0.0.4->newspaper3k) (1.16.0)\n",
      "Collecting sgmllib3k (from feedparser>=5.2.1->newspaper3k)\n",
      "  Downloading sgmllib3k-1.0.0.tar.gz (5.8 kB)\n",
      "  Installing build dependencies: started\n",
      "  Installing build dependencies: finished with status 'done'\n",
      "  Getting requirements to build wheel: started\n",
      "  Getting requirements to build wheel: finished with status 'done'\n",
      "  Preparing metadata (pyproject.toml): started\n",
      "  Preparing metadata (pyproject.toml): finished with status 'done'\n",
      "Requirement already satisfied: click in c:\\users\\admin\\documents\\venv\\lib\\site-packages (from nltk>=3.2.1->newspaper3k) (8.1.7)\n",
      "Requirement already satisfied: joblib in c:\\users\\admin\\documents\\venv\\lib\\site-packages (from nltk>=3.2.1->newspaper3k) (1.4.2)\n",
      "Requirement already satisfied: regex>=2021.8.3 in c:\\users\\admin\\documents\\venv\\lib\\site-packages (from nltk>=3.2.1->newspaper3k) (2024.11.6)\n",
      "Requirement already satisfied: tqdm in c:\\users\\admin\\documents\\venv\\lib\\site-packages (from nltk>=3.2.1->newspaper3k) (4.67.0)\n",
      "Requirement already satisfied: charset-normalizer<4,>=2 in c:\\users\\admin\\documents\\venv\\lib\\site-packages (from requests>=2.10.0->newspaper3k) (3.4.0)\n",
      "Requirement already satisfied: idna<4,>=2.5 in c:\\users\\admin\\documents\\venv\\lib\\site-packages (from requests>=2.10.0->newspaper3k) (3.10)\n",
      "Requirement already satisfied: urllib3<3,>=1.21.1 in c:\\users\\admin\\documents\\venv\\lib\\site-packages (from requests>=2.10.0->newspaper3k) (2.2.3)\n",
      "Requirement already satisfied: certifi>=2017.4.17 in c:\\users\\admin\\documents\\venv\\lib\\site-packages (from requests>=2.10.0->newspaper3k) (2024.8.30)\n",
      "Collecting requests-file>=1.4 (from tldextract>=2.0.1->newspaper3k)\n",
      "  Downloading requests_file-2.1.0-py2.py3-none-any.whl.metadata (1.7 kB)\n",
      "Collecting filelock>=3.0.8 (from tldextract>=2.0.1->newspaper3k)\n",
      "  Downloading filelock-3.16.1-py3-none-any.whl.metadata (2.9 kB)\n",
      "Requirement already satisfied: colorama in c:\\users\\admin\\documents\\venv\\lib\\site-packages (from click->nltk>=3.2.1->newspaper3k) (0.4.6)\n",
      "Downloading newspaper3k-0.2.8-py3-none-any.whl (211 kB)\n",
      "Downloading cssselect-1.2.0-py2.py3-none-any.whl (18 kB)\n",
      "Downloading feedparser-6.0.11-py3-none-any.whl (81 kB)\n",
      "Downloading lxml-5.3.0-cp312-cp312-win_amd64.whl (3.8 MB)\n",
      "   ---------------------------------------- 0.0/3.8 MB ? eta -:--:--\n",
      "   ----------------------------------- ---- 3.4/3.8 MB 18.3 MB/s eta 0:00:01\n",
      "   ---------------------------------------- 3.8/3.8 MB 15.2 MB/s eta 0:00:00\n",
      "Downloading tldextract-5.1.3-py3-none-any.whl (104 kB)\n",
      "Downloading filelock-3.16.1-py3-none-any.whl (16 kB)\n",
      "Downloading requests_file-2.1.0-py2.py3-none-any.whl (4.2 kB)\n",
      "Building wheels for collected packages: tinysegmenter, feedfinder2, jieba3k, sgmllib3k\n",
      "  Building wheel for tinysegmenter (pyproject.toml): started\n",
      "  Building wheel for tinysegmenter (pyproject.toml): finished with status 'done'\n",
      "  Created wheel for tinysegmenter: filename=tinysegmenter-0.3-py3-none-any.whl size=13568 sha256=8bc015fe307cde8e63fbc131868b4cbf4d983774952dba30bf04f5573f112be6\n",
      "  Stored in directory: c:\\users\\admin\\appdata\\local\\pip\\cache\\wheels\\a5\\91\\9f\\00d66475960891a64867914273fcaf78df6cb04d905b104a2a\n",
      "  Building wheel for feedfinder2 (pyproject.toml): started\n",
      "  Building wheel for feedfinder2 (pyproject.toml): finished with status 'done'\n",
      "  Created wheel for feedfinder2: filename=feedfinder2-0.0.4-py3-none-any.whl size=3359 sha256=e34c4314718a6f92b7cf2829e2023bf14429cf93962a9042cfeb5f2f0e2ba7f3\n",
      "  Stored in directory: c:\\users\\admin\\appdata\\local\\pip\\cache\\wheels\\9f\\9f\\fb\\364871d7426d3cdd4d293dcf7e53d97f160c508b2ccf00cc79\n",
      "  Building wheel for jieba3k (pyproject.toml): started\n",
      "  Building wheel for jieba3k (pyproject.toml): finished with status 'done'\n",
      "  Created wheel for jieba3k: filename=jieba3k-0.35.1-py3-none-any.whl size=7398385 sha256=fcf528b31e27dcbd3904cd9c1989db9e0aa3f86f8f1f20b301c8334576476dfd\n",
      "  Stored in directory: c:\\users\\admin\\appdata\\local\\pip\\cache\\wheels\\26\\72\\f7\\fff392a8d4ea988dea4ccf9788599d09462a7f5e51e04f8a92\n",
      "  Building wheel for sgmllib3k (pyproject.toml): started\n",
      "  Building wheel for sgmllib3k (pyproject.toml): finished with status 'done'\n",
      "  Created wheel for sgmllib3k: filename=sgmllib3k-1.0.0-py3-none-any.whl size=6061 sha256=2c50422b49c6925409b81f388c10209b628ef2bc80ecd3851191d8a2914774bc\n",
      "  Stored in directory: c:\\users\\admin\\appdata\\local\\pip\\cache\\wheels\\03\\f5\\1a\\23761066dac1d0e8e683e5fdb27e12de53209d05a4a37e6246\n",
      "Successfully built tinysegmenter feedfinder2 jieba3k sgmllib3k\n",
      "Installing collected packages: tinysegmenter, sgmllib3k, jieba3k, lxml, filelock, feedparser, cssselect, requests-file, feedfinder2, tldextract, newspaper3k\n",
      "Successfully installed cssselect-1.2.0 feedfinder2-0.0.4 feedparser-6.0.11 filelock-3.16.1 jieba3k-0.35.1 lxml-5.3.0 newspaper3k-0.2.8 requests-file-2.1.0 sgmllib3k-1.0.0 tinysegmenter-0.3 tldextract-5.1.3\n"
     ]
    }
   ],
   "source": [
    "!pip install newspaper3k"
   ]
  },
  {
   "cell_type": "code",
   "execution_count": 8,
   "metadata": {},
   "outputs": [],
   "source": [
    "# Import the libraries\n",
    "from newspaper import Article"
   ]
  },
  {
   "cell_type": "code",
   "execution_count": 9,
   "metadata": {},
   "outputs": [
    {
     "name": "stdout",
     "output_type": "stream",
     "text": [
      "From nuts to kelp: The 'carbon-negative' foods that help reverse climate change\n"
     ]
    }
   ],
   "source": [
    "news = Article('https://www.bbc.com/future/article/20241230-how-carbon-negative-foods-can-help-reverse-climate-change')\n",
    "news.download()\n",
    "news.parse()\n",
    "print(news.title)"
   ]
  },
  {
   "cell_type": "code",
   "execution_count": 10,
   "metadata": {},
   "outputs": [
    {
     "name": "stdout",
     "output_type": "stream",
     "text": [
      "From nuts to kelp: The 'carbon-negative' foods that help reverse climate change\n",
      "\n",
      "Getty Images\n",
      "\n",
      "Eating low-carbon foods helps reduce emissions, but some foods actually suck up carbon from the atmosphere, leaving the climate in a better place.\n",
      "\n",
      "We all know that producing most foods creates greenhouse gas emissions, driving climate change. These emissions come from hundreds of different sources, including tractors burning fuel, manufacturing fertiliser and the bacteria in cow's guts. Overall, food production contributes a quarter of human caused greenhouse gas emissions.\n",
      "\n",
      "However, there are some foods that remove more greenhouse gases than they emit, often referred to as \"carbon negative\" foods. These foods leave the climate better than they found it. Producing and eating more of these could help reduce the carbon impact of our food and, in some cases, restore ecosystems in the process.\n",
      "\n",
      "When plants grow, they take carbon dioxide (CO2) from the air, but when we (or animals) metabolise these plants, this CO2 usually gets released straight back into the air.\n",
      "\n",
      "Due to ongoing emissions, however, we need to permanently remove carbon from the atmosphere, storing it deep in the sea, rocks, soil or in trees. There are a few food products and production practices that do this. In fact, it's already possible to make your entire diet carbon negative, although in today's world, it would require substantial changes to how most people eat.\n",
      "\n",
      "Kelp\n",
      "\n",
      "As kelp and other macroalgae grow, they take in CO2. Parts of the kelp break off and move down to the deep ocean floor where some of that carbon gets stored. These removals are relatively small per kg of kelp, so for kelp-based foods to be carbon negative, the supply chain has to be very carbon efficient, with minimal transport, packaging and processing.\n",
      "\n",
      "Getty Images As kelp and macroalgae grow, they take in CO2 (Credit: Getty Images)\n",
      "\n",
      "Locally-sourced kelp therefore has the potential to be carbon negative (although this represents the minority of cases today). However, buying kelp may provide an incentive to restore the vast areas of kelp forests that have been destroyed; an environmental benefit that goes beyond mitigating climate change.\n",
      "\n",
      "Bacterial products\n",
      "\n",
      "Methane-oxidising bacteria are a group of bacteria found in several different environments which consume methane to get energy. This is very useful because methane is a potent greenhouse gas, with each kg causing 30 times more warming than CO2 over a 100-year timescale.\n",
      "\n",
      "If we eat these bacteria, we metabolise them, releasing CO2. Therefore, eating products containing these bacteria would convert a potent greenhouse gas (methane) into a far less potent one (CO2). The bacteria also require other nutrients, like nitrogen and phosphorus, but research shows these bacteria can use upcycled nutrient-rich waste streams, such as food waste or animal manure, as a nutrient source.\n",
      "\n",
      "Getty Images Buying kelp products may provide an incentive to restore the vast swathes of kelp forests that have been destroyed (Credit: Getty Images)\n",
      "\n",
      "Products from these bacteria – such as protein powders or meat-replacers – are highly likely to be carbon-negative, although there are none in the shops today. However, in 2023, Finnish Solar Foods launched an ice cream in Singapore which includes a protein made from a different type of bacteria, showing that a market for a bacterial food products could exist.\n",
      "\n",
      "Blueberries and celery\n",
      "\n",
      "In wetted peatlands, organic carbon can accumulate faster than it decomposes. A few products can be grown on wetted peatlands, including blueberries, cranberries and celery. Foods grown like this therefore have the potential to be carbon negative, if their supply chains are also made very carbon efficient.\n",
      "\n",
      "This is not normally the case for fresh blueberries, which are often packaged in plastic and flown around the world from countries like Peru, making them an extremely high-carbon food. While carbon negative peatland products exist, they are very rare and hard to identify in the shops at the moment, but this is another space to watch.\n",
      "\n",
      "Nuts, olives and citrus\n",
      "\n",
      "Planting trees on cropland stores carbon. Over the last 20 years the global area of tree nuts has doubled, and much of this expansion has occurred on croplands. Even accounting for the full supply chain, the typical nut product you will buy in the shops today removes around 1.3kg of CO2 per kg.\n",
      "\n",
      "These removals last until the trees reach maturity, usually at around 20 years. If the trees are used to make long-lasting wood products at the end of their life, this carbon can remain stored for much longer.\n",
      "\n",
      "Getty Images Cranberries grown on wetted peatlands have the potential to be carbon negative (Credit: Getty Images)\n",
      "\n",
      "Regeneratively farmed food\n",
      "\n",
      "Many regenerative practices, such as not tilling the soil or planting hedgerows, can increase the amount of carbon stored in soil or in vegetation. For example, British regenerative farming firm Wildfarmed reports removals of 1.5kg of CO2 for each kg of wheat produced by the growers it works with. Some companies with carbon-efficient supply chains already say they have turned their products carbon negative. Gipsy Hill Brewery in London, for example, claims to produce carbon-negative beer, and has done a robust life cycle assessment which backs this up.\n",
      "\n",
      "However, for high emissions foods, such as beef, research has found that regenerative practices are unlikely to achieve carbon negativity. Further, some regenerative practices can increase emissions elsewhere in the food system. For example, an Argentinian farm, where the cattle graze at low intensity amongst shrubland, certified its beef as removing 0.3kg of CO2 per kg. To achieve this, it required 500 sq m (5,400 sq ft) of pasture and cropland per kg of beef. If every beef farm used so much land, we would need to convert another three billion hectares (seven billion acres) of land – an area the size of Africa – into farmland to meet our current demand for beef.\n",
      "\n",
      "Getty Images For high emissions foods, such as beef, regenerative practices are unlikely to achieve carbon negativity (Credit: Getty Images)\n",
      "\n",
      "The need for carbon labels\n",
      "\n",
      "Overall, it is very hard to identify carbon negative foods today. But this is being solved. Robust carbon monitoring and labelling schemes, that account for the full life-cycle of products, are being rolled out around the world. For example, in New Zealand, farms now need to quantify their greenhouse gas emissions, and in France, the government is planning a national rollout of carbon labelling. Once these schemes are fully in place and backed by regulation, it should be far easier for everyone to identify carbon negative food.\n",
      "\n",
      "Land-sparing foods\n",
      "\n",
      "For all the potential of carbon negative foods, they may always only make up a small part of our diets; there just aren't enough products with carbon negative potential, and regenerative practices probably can't offset high emissions foods. So, we need other strategies for carbon negativity too.\n",
      "\n",
      "If we stop farming land, it will likely revert back to forest or natural grassland. So if you can produce the same amount of food with less land, the land that is freed up will likely absorb carbon.\n",
      "\n",
      "One way to spare land is to increase yields: produce more on the same amount of land. However, yield increases tend to be a few percent per year at most, and nowhere near enough to spare enough land to make a product carbon negative. Something far more powerful is required.\n",
      "\n",
      "Some products use so much land compared to their alternatives, that swapping away from them can create negative emissions. This is because by sparing land, you are freeing up land for revegetation, which would then absorb carbon from the air. On average, for example, beef uses 100 sq m (1,100 sq ft) of land per 100g of protein, while plant-based foods like beans or tofu use around 5 sq m (50 sq ft) for the same amount of protein.\n",
      "\n",
      "Carbon Count The emissions from travel it took to report this story were 0kg CO2. The digital emissions from this story are an estimated 1.2g to 3.6g CO2 per page view. Find out more about how we calculated this figure here.\n",
      "\n",
      "An analysis using a leading climate model found that if we all stopped consuming animals and permanently swapped to plant-based food, we could return 3.1 billion hectares (seven billion acres) of farmland to forests and natural grasslands. This is an area the size of the US, China, the European Union and Australia combined.\n",
      "\n",
      "If you looked at our planet from space, it would be transformed. Eight billion tonnes of CO2 would be removed, each year, for around 100 years as vegetation regrew and carbon in the soils re-accumulated. This tremendous amount of carbon removal would offset all of food's emissions and make our diets carbon negative. Per person, on average globally, our average food related emissions would go from around 2,000 kg of CO2 equivalent (CO2eq) per year to -160 kg CO2eq per year.\n",
      "\n",
      "While carbon labelling and new technologies are vital for our shift to carbon negativity, swapping from products that use lots of land (generally meat and dairy) to products that use little land (generally plant-based foods) is probably the most effective way to make our diets carbon negative.\n",
      "\n",
      "* Joseph Poore is director of the Oxford Martin Programme on Food Sustainability. He researches the environmental impacts of global agriculture and how to reduce these impacts.\n",
      "\n",
      "--\n",
      "\n",
      "For essential climate news and hopeful developments to your inbox, sign up to the Future Earth newsletter, while The Essential List delivers a handpicked selection of features and insights twice a week.\n"
     ]
    }
   ],
   "source": [
    "news = Article('https://www.bbc.com/future/article/20241230-how-carbon-negative-foods-can-help-reverse-climate-change')\n",
    "news.download()\n",
    "news.parse()\n",
    "print(news.text)"
   ]
  },
  {
   "cell_type": "code",
   "execution_count": 11,
   "metadata": {},
   "outputs": [
    {
     "name": "stdout",
     "output_type": "stream",
     "text": [
      "2024-12-30 00:00:00\n"
     ]
    }
   ],
   "source": [
    "news = Article('https://www.bbc.com/future/article/20241230-how-carbon-negative-foods-can-help-reverse-climate-change')\n",
    "news.download()\n",
    "news.parse()\n",
    "print(news.publish_date)"
   ]
  },
  {
   "cell_type": "code",
   "execution_count": null,
   "metadata": {},
   "outputs": [],
   "source": []
  }
 ],
 "metadata": {
  "kernelspec": {
   "display_name": "venv",
   "language": "python",
   "name": "python3"
  },
  "language_info": {
   "codemirror_mode": {
    "name": "ipython",
    "version": 3
   },
   "file_extension": ".py",
   "mimetype": "text/x-python",
   "name": "python",
   "nbconvert_exporter": "python",
   "pygments_lexer": "ipython3",
   "version": "3.12.3"
  }
 },
 "nbformat": 4,
 "nbformat_minor": 2
}
