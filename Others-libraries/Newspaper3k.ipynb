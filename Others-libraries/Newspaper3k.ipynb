{
 "cells": [
  {
   "cell_type": "markdown",
   "metadata": {},
   "source": [
    "## Access News Using Python"
   ]
  },
  {
   "cell_type": "code",
   "execution_count": null,
   "metadata": {},
   "outputs": [],
   "source": [
    "# !pip install newspaper3k"
   ]
  },
  {
   "cell_type": "code",
   "execution_count": 2,
   "metadata": {},
   "outputs": [],
   "source": [
    "# Import the libraries\n",
    "from newspaper import Article"
   ]
  },
  {
   "cell_type": "code",
   "execution_count": 3,
   "metadata": {},
   "outputs": [
    {
     "name": "stdout",
     "output_type": "stream",
     "text": [
      "From nuts to kelp: The 'carbon-negative' foods that help reverse climate change\n"
     ]
    }
   ],
   "source": [
    "news = Article('https://www.bbc.com/future/article/20241230-how-carbon-negative-foods-can-help-reverse-climate-change')\n",
    "news.download()\n",
    "news.parse()\n",
    "print(news.title)"
   ]
  },
  {
   "cell_type": "code",
   "execution_count": 4,
   "metadata": {},
   "outputs": [
    {
     "name": "stdout",
     "output_type": "stream",
     "text": [
      "From nuts to kelp: The 'carbon-negative' foods that help reverse climate change\n",
      "\n",
      "Getty Images\n",
      "\n",
      "Eating low-carbon foods helps reduce emissions, but some foods actually suck up carbon from the atmosphere, leaving the climate in a better place.\n",
      "\n",
      "We all know that producing most foods creates greenhouse gas emissions, driving climate change. These emissions come from hundreds of different sources, including tractors burning fuel, manufacturing fertiliser and the bacteria in cow's guts. Overall, food production contributes a quarter of human caused greenhouse gas emissions.\n",
      "\n",
      "However, there are some foods that remove more greenhouse gases than they emit, often referred to as \"carbon negative\" foods. These foods leave the climate better than they found it. Producing and eating more of these could help reduce the carbon impact of our food and, in some cases, restore ecosystems in the process.\n",
      "\n",
      "When plants grow, they take carbon dioxide (CO2) from the air, but when we (or animals) metabolise these plants, this CO2 usually gets released straight back into the air.\n",
      "\n",
      "Due to ongoing emissions, however, we need to permanently remove carbon from the atmosphere, storing it deep in the sea, rocks, soil or in trees. There are a few food products and production practices that do this. In fact, it's already possible to make your entire diet carbon negative, although in today's world, it would require substantial changes to how most people eat.\n",
      "\n",
      "Kelp\n",
      "\n",
      "As kelp and other macroalgae grow, they take in CO2. Parts of the kelp break off and move down to the deep ocean floor where some of that carbon gets stored. These removals are relatively small per kg of kelp, so for kelp-based foods to be carbon negative, the supply chain has to be very carbon efficient, with minimal transport, packaging and processing.\n",
      "\n",
      "Getty Images As kelp and macroalgae grow, they take in CO2 (Credit: Getty Images)\n",
      "\n",
      "Locally-sourced kelp therefore has the potential to be carbon negative (although this represents the minority of cases today). However, buying kelp may provide an incentive to restore the vast areas of kelp forests that have been destroyed; an environmental benefit that goes beyond mitigating climate change.\n",
      "\n",
      "Bacterial products\n",
      "\n",
      "Methane-oxidising bacteria are a group of bacteria found in several different environments which consume methane to get energy. This is very useful because methane is a potent greenhouse gas, with each kg causing 30 times more warming than CO2 over a 100-year timescale.\n",
      "\n",
      "If we eat these bacteria, we metabolise them, releasing CO2. Therefore, eating products containing these bacteria would convert a potent greenhouse gas (methane) into a far less potent one (CO2). The bacteria also require other nutrients, like nitrogen and phosphorus, but research shows these bacteria can use upcycled nutrient-rich waste streams, such as food waste or animal manure, as a nutrient source.\n",
      "\n",
      "Getty Images Buying kelp products may provide an incentive to restore the vast swathes of kelp forests that have been destroyed (Credit: Getty Images)\n",
      "\n",
      "Products from these bacteria – such as protein powders or meat-replacers – are highly likely to be carbon-negative, although there are none in the shops today. However, in 2023, Finnish Solar Foods launched an ice cream in Singapore which includes a protein made from a different type of bacteria, showing that a market for a bacterial food products could exist.\n",
      "\n",
      "Blueberries and celery\n",
      "\n",
      "In wetted peatlands, organic carbon can accumulate faster than it decomposes. A few products can be grown on wetted peatlands, including blueberries, cranberries and celery. Foods grown like this therefore have the potential to be carbon negative, if their supply chains are also made very carbon efficient.\n",
      "\n",
      "This is not normally the case for fresh blueberries, which are often packaged in plastic and flown around the world from countries like Peru, making them an extremely high-carbon food. While carbon negative peatland products exist, they are very rare and hard to identify in the shops at the moment, but this is another space to watch.\n",
      "\n",
      "Nuts, olives and citrus\n",
      "\n",
      "Planting trees on cropland stores carbon. Over the last 20 years the global area of tree nuts has doubled, and much of this expansion has occurred on croplands. Even accounting for the full supply chain, the typical nut product you will buy in the shops today removes around 1.3kg of CO2 per kg.\n",
      "\n",
      "These removals last until the trees reach maturity, usually at around 20 years. If the trees are used to make long-lasting wood products at the end of their life, this carbon can remain stored for much longer.\n",
      "\n",
      "Getty Images Cranberries grown on wetted peatlands have the potential to be carbon negative (Credit: Getty Images)\n",
      "\n",
      "Regeneratively farmed food\n",
      "\n",
      "Many regenerative practices, such as not tilling the soil or planting hedgerows, can increase the amount of carbon stored in soil or in vegetation. For example, British regenerative farming firm Wildfarmed reports removals of 1.5kg of CO2 for each kg of wheat produced by the growers it works with. Some companies with carbon-efficient supply chains already say they have turned their products carbon negative. Gipsy Hill Brewery in London, for example, claims to produce carbon-negative beer, and has done a robust life cycle assessment which backs this up.\n",
      "\n",
      "However, for high emissions foods, such as beef, research has found that regenerative practices are unlikely to achieve carbon negativity. Further, some regenerative practices can increase emissions elsewhere in the food system. For example, an Argentinian farm, where the cattle graze at low intensity amongst shrubland, certified its beef as removing 0.3kg of CO2 per kg. To achieve this, it required 500 sq m (5,400 sq ft) of pasture and cropland per kg of beef. If every beef farm used so much land, we would need to convert another three billion hectares (seven billion acres) of land – an area the size of Africa – into farmland to meet our current demand for beef.\n",
      "\n",
      "Getty Images For high emissions foods, such as beef, regenerative practices are unlikely to achieve carbon negativity (Credit: Getty Images)\n",
      "\n",
      "The need for carbon labels\n",
      "\n",
      "Overall, it is very hard to identify carbon negative foods today. But this is being solved. Robust carbon monitoring and labelling schemes, that account for the full life-cycle of products, are being rolled out around the world. For example, in New Zealand, farms now need to quantify their greenhouse gas emissions, and in France, the government is planning a national rollout of carbon labelling. Once these schemes are fully in place and backed by regulation, it should be far easier for everyone to identify carbon negative food.\n",
      "\n",
      "Land-sparing foods\n",
      "\n",
      "For all the potential of carbon negative foods, they may always only make up a small part of our diets; there just aren't enough products with carbon negative potential, and regenerative practices probably can't offset high emissions foods. So, we need other strategies for carbon negativity too.\n",
      "\n",
      "If we stop farming land, it will likely revert back to forest or natural grassland. So if you can produce the same amount of food with less land, the land that is freed up will likely absorb carbon.\n",
      "\n",
      "One way to spare land is to increase yields: produce more on the same amount of land. However, yield increases tend to be a few percent per year at most, and nowhere near enough to spare enough land to make a product carbon negative. Something far more powerful is required.\n",
      "\n",
      "Some products use so much land compared to their alternatives, that swapping away from them can create negative emissions. This is because by sparing land, you are freeing up land for revegetation, which would then absorb carbon from the air. On average, for example, beef uses 100 sq m (1,100 sq ft) of land per 100g of protein, while plant-based foods like beans or tofu use around 5 sq m (50 sq ft) for the same amount of protein.\n",
      "\n",
      "Carbon Count The emissions from travel it took to report this story were 0kg CO2. The digital emissions from this story are an estimated 1.2g to 3.6g CO2 per page view. Find out more about how we calculated this figure here.\n",
      "\n",
      "An analysis using a leading climate model found that if we all stopped consuming animals and permanently swapped to plant-based food, we could return 3.1 billion hectares (seven billion acres) of farmland to forests and natural grasslands. This is an area the size of the US, China, the European Union and Australia combined.\n",
      "\n",
      "If you looked at our planet from space, it would be transformed. Eight billion tonnes of CO2 would be removed, each year, for around 100 years as vegetation regrew and carbon in the soils re-accumulated. This tremendous amount of carbon removal would offset all of food's emissions and make our diets carbon negative. Per person, on average globally, our average food related emissions would go from around 2,000 kg of CO2 equivalent (CO2eq) per year to -160 kg CO2eq per year.\n",
      "\n",
      "While carbon labelling and new technologies are vital for our shift to carbon negativity, swapping from products that use lots of land (generally meat and dairy) to products that use little land (generally plant-based foods) is probably the most effective way to make our diets carbon negative.\n",
      "\n",
      "* Joseph Poore is director of the Oxford Martin Programme on Food Sustainability. He researches the environmental impacts of global agriculture and how to reduce these impacts.\n",
      "\n",
      "--\n",
      "\n",
      "For essential climate news and hopeful developments to your inbox, sign up to the Future Earth newsletter, while The Essential List delivers a handpicked selection of features and insights twice a week.\n"
     ]
    }
   ],
   "source": [
    "print(news.text)"
   ]
  },
  {
   "cell_type": "code",
   "execution_count": 5,
   "metadata": {},
   "outputs": [
    {
     "name": "stdout",
     "output_type": "stream",
     "text": [
      "2024-12-30 00:00:00\n"
     ]
    }
   ],
   "source": [
    "news.parse()\n",
    "print(news.publish_date)"
   ]
  },
  {
   "cell_type": "code",
   "execution_count": 7,
   "metadata": {},
   "outputs": [
    {
     "data": {
      "text/plain": [
       "'https://ychef.files.bbci.co.uk/624x351/p0kfrs1g.jpg'"
      ]
     },
     "execution_count": 7,
     "metadata": {},
     "output_type": "execute_result"
    }
   ],
   "source": [
    "news.top_image"
   ]
  },
  {
   "cell_type": "code",
   "execution_count": 8,
   "metadata": {},
   "outputs": [
    {
     "data": {
      "text/plain": [
       "[]"
      ]
     },
     "execution_count": 8,
     "metadata": {},
     "output_type": "execute_result"
    }
   ],
   "source": [
    "news.movies"
   ]
  },
  {
   "cell_type": "code",
   "execution_count": 12,
   "metadata": {},
   "outputs": [],
   "source": [
    "# news.nlp()"
   ]
  },
  {
   "cell_type": "code",
   "execution_count": 10,
   "metadata": {},
   "outputs": [],
   "source": [
    "from newspaper import fulltext\n",
    "import requests\n",
    "\n",
    "html = requests.get('https://www.bbc.com/future/article/20241230-how-carbon-negative-foods-can-help-reverse-climate-change').text\n",
    "text = fulltext(html)"
   ]
  },
  {
   "cell_type": "code",
   "execution_count": 11,
   "metadata": {},
   "outputs": [
    {
     "data": {
      "text/plain": [
       "'From nuts to kelp: The \\'carbon-negative\\' foods that help reverse climate change\\n\\nGetty Images\\n\\nEating low-carbon foods helps reduce emissions, but some foods actually suck up carbon from the atmosphere, leaving the climate in a better place.\\n\\nWe all know that producing most foods creates greenhouse gas emissions, driving climate change. These emissions come from hundreds of different sources, including tractors burning fuel, manufacturing fertiliser and the bacteria in cow\\'s guts. Overall, food production contributes a quarter of human caused greenhouse gas emissions.\\n\\nHowever, there are some foods that remove more greenhouse gases than they emit, often referred to as \"carbon negative\" foods. These foods leave the climate better than they found it. Producing and eating more of these could help reduce the carbon impact of our food and, in some cases, restore ecosystems in the process.\\n\\nWhen plants grow, they take carbon dioxide (CO2) from the air, but when we (or animals) metabolise these plants, this CO2 usually gets released straight back into the air.\\n\\nDue to ongoing emissions, however, we need to permanently remove carbon from the atmosphere, storing it deep in the sea, rocks, soil or in trees. There are a few food products and production practices that do this. In fact, it\\'s already possible to make your entire diet carbon negative, although in today\\'s world, it would require substantial changes to how most people eat.\\n\\nKelp\\n\\nAs kelp and other macroalgae grow, they take in CO2. Parts of the kelp break off and move down to the deep ocean floor where some of that carbon gets stored. These removals are relatively small per kg of kelp, so for kelp-based foods to be carbon negative, the supply chain has to be very carbon efficient, with minimal transport, packaging and processing.\\n\\nGetty Images As kelp and macroalgae grow, they take in CO2 (Credit: Getty Images)\\n\\nLocally-sourced kelp therefore has the potential to be carbon negative (although this represents the minority of cases today). However, buying kelp may provide an incentive to restore the vast areas of kelp forests that have been destroyed; an environmental benefit that goes beyond mitigating climate change.\\n\\nBacterial products\\n\\nMethane-oxidising bacteria are a group of bacteria found in several different environments which consume methane to get energy. This is very useful because methane is a potent greenhouse gas, with each kg causing 30 times more warming than CO2 over a 100-year timescale.\\n\\nIf we eat these bacteria, we metabolise them, releasing CO2. Therefore, eating products containing these bacteria would convert a potent greenhouse gas (methane) into a far less potent one (CO2). The bacteria also require other nutrients, like nitrogen and phosphorus, but research shows these bacteria can use upcycled nutrient-rich waste streams, such as food waste or animal manure, as a nutrient source.\\n\\nGetty Images Buying kelp products may provide an incentive to restore the vast swathes of kelp forests that have been destroyed (Credit: Getty Images)\\n\\nProducts from these bacteria – such as protein powders or meat-replacers – are highly likely to be carbon-negative, although there are none in the shops today. However, in 2023, Finnish Solar Foods launched an ice cream in Singapore which includes a protein made from a different type of bacteria, showing that a market for a bacterial food products could exist.\\n\\nBlueberries and celery\\n\\nIn wetted peatlands, organic carbon can accumulate faster than it decomposes. A few products can be grown on wetted peatlands, including blueberries, cranberries and celery. Foods grown like this therefore have the potential to be carbon negative, if their supply chains are also made very carbon efficient.\\n\\nThis is not normally the case for fresh blueberries, which are often packaged in plastic and flown around the world from countries like Peru, making them an extremely high-carbon food. While carbon negative peatland products exist, they are very rare and hard to identify in the shops at the moment, but this is another space to watch.\\n\\nNuts, olives and citrus\\n\\nPlanting trees on cropland stores carbon. Over the last 20 years the global area of tree nuts has doubled, and much of this expansion has occurred on croplands. Even accounting for the full supply chain, the typical nut product you will buy in the shops today removes around 1.3kg of CO2 per kg.\\n\\nThese removals last until the trees reach maturity, usually at around 20 years. If the trees are used to make long-lasting wood products at the end of their life, this carbon can remain stored for much longer.\\n\\nGetty Images Cranberries grown on wetted peatlands have the potential to be carbon negative (Credit: Getty Images)\\n\\nRegeneratively farmed food\\n\\nMany regenerative practices, such as not tilling the soil or planting hedgerows, can increase the amount of carbon stored in soil or in vegetation. For example, British regenerative farming firm Wildfarmed reports removals of 1.5kg of CO2 for each kg of wheat produced by the growers it works with. Some companies with carbon-efficient supply chains already say they have turned their products carbon negative. Gipsy Hill Brewery in London, for example, claims to produce carbon-negative beer, and has done a robust life cycle assessment which backs this up.\\n\\nHowever, for high emissions foods, such as beef, research has found that regenerative practices are unlikely to achieve carbon negativity. Further, some regenerative practices can increase emissions elsewhere in the food system. For example, an Argentinian farm, where the cattle graze at low intensity amongst shrubland, certified its beef as removing 0.3kg of CO2 per kg. To achieve this, it required 500 sq m (5,400 sq ft) of pasture and cropland per kg of beef. If every beef farm used so much land, we would need to convert another three billion hectares (seven billion acres) of land – an area the size of Africa – into farmland to meet our current demand for beef.\\n\\nGetty Images For high emissions foods, such as beef, regenerative practices are unlikely to achieve carbon negativity (Credit: Getty Images)\\n\\nThe need for carbon labels\\n\\nOverall, it is very hard to identify carbon negative foods today. But this is being solved. Robust carbon monitoring and labelling schemes, that account for the full life-cycle of products, are being rolled out around the world. For example, in New Zealand, farms now need to quantify their greenhouse gas emissions, and in France, the government is planning a national rollout of carbon labelling. Once these schemes are fully in place and backed by regulation, it should be far easier for everyone to identify carbon negative food.\\n\\nLand-sparing foods\\n\\nFor all the potential of carbon negative foods, they may always only make up a small part of our diets; there just aren\\'t enough products with carbon negative potential, and regenerative practices probably can\\'t offset high emissions foods. So, we need other strategies for carbon negativity too.\\n\\nIf we stop farming land, it will likely revert back to forest or natural grassland. So if you can produce the same amount of food with less land, the land that is freed up will likely absorb carbon.\\n\\nOne way to spare land is to increase yields: produce more on the same amount of land. However, yield increases tend to be a few percent per year at most, and nowhere near enough to spare enough land to make a product carbon negative. Something far more powerful is required.\\n\\nSome products use so much land compared to their alternatives, that swapping away from them can create negative emissions. This is because by sparing land, you are freeing up land for revegetation, which would then absorb carbon from the air. On average, for example, beef uses 100 sq m (1,100 sq ft) of land per 100g of protein, while plant-based foods like beans or tofu use around 5 sq m (50 sq ft) for the same amount of protein.\\n\\nCarbon Count The emissions from travel it took to report this story were 0kg CO2. The digital emissions from this story are an estimated 1.2g to 3.6g CO2 per page view. Find out more about how we calculated this figure here.\\n\\nAn analysis using a leading climate model found that if we all stopped consuming animals and permanently swapped to plant-based food, we could return 3.1 billion hectares (seven billion acres) of farmland to forests and natural grasslands. This is an area the size of the US, China, the European Union and Australia combined.\\n\\nIf you looked at our planet from space, it would be transformed. Eight billion tonnes of CO2 would be removed, each year, for around 100 years as vegetation regrew and carbon in the soils re-accumulated. This tremendous amount of carbon removal would offset all of food\\'s emissions and make our diets carbon negative. Per person, on average globally, our average food related emissions would go from around 2,000 kg of CO2 equivalent (CO2eq) per year to -160 kg CO2eq per year.\\n\\nWhile carbon labelling and new technologies are vital for our shift to carbon negativity, swapping from products that use lots of land (generally meat and dairy) to products that use little land (generally plant-based foods) is probably the most effective way to make our diets carbon negative.\\n\\n* Joseph Poore is director of the Oxford Martin Programme on Food Sustainability. He researches the environmental impacts of global agriculture and how to reduce these impacts.\\n\\n--\\n\\nFor essential climate news and hopeful developments to your inbox, sign up to the Future Earth newsletter, while The Essential List delivers a handpicked selection of features and insights twice a week.'"
      ]
     },
     "execution_count": 11,
     "metadata": {},
     "output_type": "execute_result"
    }
   ],
   "source": [
    "text"
   ]
  },
  {
   "cell_type": "code",
   "execution_count": null,
   "metadata": {},
   "outputs": [],
   "source": []
  }
 ],
 "metadata": {
  "kernelspec": {
   "display_name": "venv",
   "language": "python",
   "name": "python3"
  },
  "language_info": {
   "codemirror_mode": {
    "name": "ipython",
    "version": 3
   },
   "file_extension": ".py",
   "mimetype": "text/x-python",
   "name": "python",
   "nbconvert_exporter": "python",
   "pygments_lexer": "ipython3",
   "version": "3.12.3"
  }
 },
 "nbformat": 4,
 "nbformat_minor": 2
}
