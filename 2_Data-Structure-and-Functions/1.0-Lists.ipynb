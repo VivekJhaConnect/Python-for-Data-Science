{
 "cells": [
  {
   "cell_type": "markdown",
   "metadata": {},
   "source": [
    "- Introduction\n",
    "- Array vs List\n",
    "- How lists are stored in a memory\n",
    "- Characteristics of Python List\n",
    "- Code Example of Lists\n",
    " - Create and access a list\n",
    " - append(), extend(), insert()\n",
    " - Edit items in a list\n",
    " - Deleting items from a list\n",
    " - Arithmetic, membership and loop operations on a List\n",
    " - Various List functions\n",
    " - List comprehension\n",
    " - 2 Ways to traverse a list\n",
    " - Zip() function\n",
    " - Python List can store any kind of objects\n",
    "- Disadvantages of Python list\n"
   ]
  },
  {
   "cell_type": "markdown",
   "metadata": {},
   "source": [
    "#### Sort a List in Descending Order"
   ]
  },
  {
   "cell_type": "code",
   "execution_count": 1,
   "metadata": {},
   "outputs": [
    {
     "name": "stdout",
     "output_type": "stream",
     "text": [
      "[8, 7, 7, 7, 6, 6, 5, 5, 4, 4, 3, 3, 2]\n"
     ]
    }
   ],
   "source": [
    "list1 = [4,5,6,7,8,3,3,2,4,5,6,7,7]\n",
    "list1.sort(reverse=True)\n",
    "print(list1)"
   ]
  },
  {
   "cell_type": "code",
   "execution_count": 2,
   "metadata": {},
   "outputs": [
    {
     "name": "stdout",
     "output_type": "stream",
     "text": [
      "None\n"
     ]
    }
   ],
   "source": [
    "# You can not get the return after shoring complete\n",
    "list2 = list1.sort(reverse=True)\n",
    "print(list2)"
   ]
  },
  {
   "cell_type": "markdown",
   "metadata": {},
   "source": [
    "### Flatten a Nested List"
   ]
  },
  {
   "cell_type": "code",
   "execution_count": 1,
   "metadata": {},
   "outputs": [
    {
     "name": "stdout",
     "output_type": "stream",
     "text": [
      "[1, 2, 3, 4, 5, 6]\n"
     ]
    }
   ],
   "source": [
    "list1 = [[1,2,3],[4,5,6]]\n",
    "\n",
    "newlist = []\n",
    "for list2 in list1:\n",
    "    for j in list2:\n",
    "        newlist.append(j)\n",
    "\n",
    "print(newlist)"
   ]
  },
  {
   "cell_type": "markdown",
   "metadata": {},
   "source": [
    "Using itertools"
   ]
  },
  {
   "cell_type": "code",
   "execution_count": 3,
   "metadata": {},
   "outputs": [
    {
     "name": "stdout",
     "output_type": "stream",
     "text": [
      "[1, 2, 3, 4, 5, 6]\n"
     ]
    }
   ],
   "source": [
    "import itertools\n",
    "\n",
    "flat_list = list(itertools.chain.from_iterable(list1))\n",
    "print(flat_list)"
   ]
  },
  {
   "cell_type": "markdown",
   "metadata": {},
   "source": [
    "Using Comprehension"
   ]
  },
  {
   "cell_type": "code",
   "execution_count": 4,
   "metadata": {},
   "outputs": [
    {
     "name": "stdout",
     "output_type": "stream",
     "text": [
      "[1, 2, 3, 4, 5, 6]\n"
     ]
    }
   ],
   "source": [
    "flat_list = [i for j in list1 for i in j]\n",
    "print(flat_list)"
   ]
  },
  {
   "cell_type": "markdown",
   "metadata": {},
   "source": [
    "### Index of the Biggest and Smallest Number"
   ]
  },
  {
   "cell_type": "code",
   "execution_count": 11,
   "metadata": {},
   "outputs": [
    {
     "name": "stdout",
     "output_type": "stream",
     "text": [
      "The index of the largest number is 3\n"
     ]
    }
   ],
   "source": []
  },
  {
   "cell_type": "code",
   "execution_count": 12,
   "metadata": {},
   "outputs": [
    {
     "name": "stdout",
     "output_type": "stream",
     "text": [
      "The index of the smallest number is 7\n"
     ]
    }
   ],
   "source": []
  },
  {
   "cell_type": "markdown",
   "metadata": {},
   "source": [
    "#### Iterable or Not"
   ]
  },
  {
   "cell_type": "code",
   "execution_count": 1,
   "metadata": {},
   "outputs": [
    {
     "name": "stdout",
     "output_type": "stream",
     "text": [
      "This is iterable\n"
     ]
    }
   ],
   "source": [
    "arr = ['a', 'b', 'c', 'd', 'e', 'f', 'g', 'h']\n",
    "\n",
    "try:\n",
    "    iter_check = iter(arr)\n",
    "except TypeError:\n",
    "    print('This is not iterable')\n",
    "else:\n",
    "    print('This is iterable')"
   ]
  },
  {
   "cell_type": "code",
   "execution_count": 2,
   "metadata": {},
   "outputs": [
    {
     "name": "stdout",
     "output_type": "stream",
     "text": [
      "This is not iterable\n"
     ]
    }
   ],
   "source": [
    "b = 45.32\n",
    "\n",
    "try:\n",
    "    iter_check = iter(b)\n",
    "except TypeError:\n",
    "    print('This is not iterable')\n",
    "else:\n",
    "    print('This is iterable')"
   ]
  },
  {
   "cell_type": "markdown",
   "metadata": {},
   "source": [
    "#### Sorting a List of Tuples"
   ]
  },
  {
   "cell_type": "code",
   "execution_count": 4,
   "metadata": {},
   "outputs": [
    {
     "name": "stdout",
     "output_type": "stream",
     "text": [
      "Sorted by First Name  [('Dave', 'Boulian'), ('Doe', 'Karter'), ('Jane', 'parker'), ('John', 'Kate')]\n",
      "Sorted by Last Name  [('Dave', 'Boulian'), ('Doe', 'Karter'), ('John', 'Kate'), ('Jane', 'parker')]\n",
      "Sorted by First Name, Last Name  [('Dave', 'Boulian'), ('Doe', 'Karter'), ('Jane', 'parker'), ('John', 'Kate')]\n"
     ]
    }
   ],
   "source": [
    "from operator import itemgetter\n",
    "\n",
    "name = [('John', 'Kate'), ('Jane', 'parker'), ('Dave', 'Boulian'), ('Doe', 'Karter')]\n",
    "\n",
    "# sort names by first name\n",
    "\n",
    "sorted_name = sorted(name, key=itemgetter(0))\n",
    "print('Sorted by First Name ', sorted_name)\n",
    "\n",
    "# sort names by last name\n",
    "sorted_name = sorted(name, key=itemgetter(1))\n",
    "print('Sorted by Last Name ', sorted_name)\n",
    "\n",
    "# sort name by frst name, then last name\n",
    "sorted_name = sorted(name, key=itemgetter(0,1))\n",
    "print('Sorted by First Name, Last Name ', sorted_name)"
   ]
  },
  {
   "cell_type": "markdown",
   "metadata": {},
   "source": [
    "#### Sort List with Sorted & Lambda"
   ]
  },
  {
   "cell_type": "code",
   "execution_count": 5,
   "metadata": {},
   "outputs": [
    {
     "name": "stdout",
     "output_type": "stream",
     "text": [
      "['Jane', 'Doe', 'Dave', 'Kate', 'Vivek', 'John', 'Boulian', 'Parker', 'Karter']\n"
     ]
    }
   ],
   "source": [
    "list1 = ['Vivek', 'John', 'Jane', 'Doe', 'Dave', 'Kate', 'Parker', 'Boulian', 'Karter']\n",
    "\n",
    "a = lambda x: x[-1]\n",
    "y = sorted(list1, key=a)\n",
    "print(y)"
   ]
  },
  {
   "cell_type": "code",
   "execution_count": 6,
   "metadata": {},
   "outputs": [
    {
     "name": "stdout",
     "output_type": "stream",
     "text": [
      "['Boulian', 'Doe', 'Dave', 'John', 'Jane', 'Kate', 'Karter', 'Parker', 'Vivek']\n"
     ]
    }
   ],
   "source": [
    "a = lambda x: x[:1]\n",
    "y = sorted(list1, key=a)\n",
    "print(y)"
   ]
  },
  {
   "cell_type": "code",
   "execution_count": 7,
   "metadata": {},
   "outputs": [
    {
     "name": "stdout",
     "output_type": "stream",
     "text": [
      "['Boulian', 'Dave', 'Doe', 'Jane', 'John', 'Karter', 'Kate', 'Parker', 'Vivek']\n"
     ]
    }
   ],
   "source": [
    "list2 = sorted(list1)\n",
    "print(list2)"
   ]
  },
  {
   "cell_type": "code",
   "execution_count": null,
   "metadata": {},
   "outputs": [],
   "source": []
  }
 ],
 "metadata": {
  "kernelspec": {
   "display_name": "venv",
   "language": "python",
   "name": "python3"
  },
  "language_info": {
   "codemirror_mode": {
    "name": "ipython",
    "version": 3
   },
   "file_extension": ".py",
   "mimetype": "text/x-python",
   "name": "python",
   "nbconvert_exporter": "python",
   "pygments_lexer": "ipython3",
   "version": "3.12.3"
  }
 },
 "nbformat": 4,
 "nbformat_minor": 2
}
