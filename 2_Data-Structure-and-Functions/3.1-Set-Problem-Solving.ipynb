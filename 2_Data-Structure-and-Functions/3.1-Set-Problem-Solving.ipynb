{
 "cells": [
  {
   "cell_type": "markdown",
   "metadata": {},
   "source": [
    "#### Set Comprehension"
   ]
  },
  {
   "cell_type": "code",
   "execution_count": 1,
   "metadata": {},
   "outputs": [
    {
     "name": "stdout",
     "output_type": "stream",
     "text": [
      "{'glad', 'war', 'happy', 'hate', 'joy', 'pain', 'sad', 'mad', 'lovel', 'peace'}\n"
     ]
    }
   ],
   "source": [
    "list1 = ['Lovel', 'HATE', 'WAR', 'PEACE', 'PAIN', 'JOY', 'HAPPY', 'SAD', 'MAD', 'GLAD']\n",
    "\n",
    "set1 = {wprd.lower() for wprd in list1}\n",
    "print(set1)"
   ]
  },
  {
   "cell_type": "code",
   "execution_count": 2,
   "metadata": {},
   "outputs": [
    {
     "name": "stdout",
     "output_type": "stream",
     "text": [
      "{2, 4, 6, 8, 10}\n"
     ]
    }
   ],
   "source": [
    "arr = [1, 2, 3, 4, 5, 6, 7, 8, 9, 10]\n",
    "\n",
    "new_set = {num for num in arr if num % 2 == 0}  \n",
    "print(new_set)"
   ]
  },
  {
   "cell_type": "code",
   "execution_count": null,
   "metadata": {},
   "outputs": [],
   "source": []
  }
 ],
 "metadata": {
  "kernelspec": {
   "display_name": "venv",
   "language": "python",
   "name": "python3"
  },
  "language_info": {
   "codemirror_mode": {
    "name": "ipython",
    "version": 3
   },
   "file_extension": ".py",
   "mimetype": "text/x-python",
   "name": "python",
   "nbconvert_exporter": "python",
   "pygments_lexer": "ipython3",
   "version": "3.12.3"
  }
 },
 "nbformat": 4,
 "nbformat_minor": 2
}
