{
 "cells": [
  {
   "cell_type": "markdown",
   "metadata": {},
   "source": [
    "### Counting Item Occurrences"
   ]
  },
  {
   "cell_type": "code",
   "execution_count": 4,
   "metadata": {},
   "outputs": [
    {
     "name": "stdout",
     "output_type": "stream",
     "text": [
      "The name appears in the list  2 items.\n"
     ]
    }
   ],
   "source": [
    "from collections import Counter\n",
    "\n",
    "list1 = ['John', 'Vivek', 'Jha', 'John']\n",
    "\n",
    "count_peter = Counter(list1).get(\"John\")\n",
    "\n",
    "print(f\"The name appears in the list \", f\"{count_peter} items.\")"
   ]
  },
  {
   "cell_type": "code",
   "execution_count": 5,
   "metadata": {},
   "outputs": [
    {
     "name": "stdout",
     "output_type": "stream",
     "text": [
      "The name Peter appears in the list 2 times.\n"
     ]
    }
   ],
   "source": [
    "# Create a count variable\n",
    "count = 0\n",
    "for name in list1:\n",
    "    if name == 'John':\n",
    "        count += 1\n",
    "\n",
    "print(f\"The name Peter appears in the list\", f\"{count} times.\") "
   ]
  },
  {
   "cell_type": "markdown",
   "metadata": {},
   "source": [
    "### Index of the Biggest and Smallest Number"
   ]
  },
  {
   "cell_type": "code",
   "execution_count": 1,
   "metadata": {},
   "outputs": [
    {
     "name": "stdout",
     "output_type": "stream",
     "text": [
      "The index of the largest number is 3\n"
     ]
    }
   ],
   "source": [
    "x = [12,45,67,89,34,67,13,8]\n",
    "max_num = max(enumerate(x, start=0), key=lambda x:x[1])\n",
    "print(\"The index of the largest number is\", max_num[0])"
   ]
  },
  {
   "cell_type": "code",
   "execution_count": 2,
   "metadata": {},
   "outputs": [
    {
     "name": "stdout",
     "output_type": "stream",
     "text": [
      "The index of the smallest number is 7\n"
     ]
    }
   ],
   "source": [
    "min_num = min(enumerate(x, start=0), key=lambda x:x[1])\n",
    "print(\"The index of the smallest number is\", min_num[0])"
   ]
  },
  {
   "cell_type": "markdown",
   "metadata": {},
   "source": [
    "### Absolute Value of a Numbers"
   ]
  },
  {
   "cell_type": "code",
   "execution_count": 1,
   "metadata": {},
   "outputs": [
    {
     "name": "stdout",
     "output_type": "stream",
     "text": [
      "[57.0, 67, 89, 34, 67, 13]\n"
     ]
    }
   ],
   "source": [
    "list1 = [-12. -45, -67, -89, -34, 67, -13]\n",
    "list1_abs = [abs(num) for num in list1]\n",
    "print(list1_abs)"
   ]
  },
  {
   "cell_type": "code",
   "execution_count": 2,
   "metadata": {},
   "outputs": [
    {
     "name": "stdout",
     "output_type": "stream",
     "text": [
      "23.12\n"
     ]
    }
   ],
   "source": [
    "a = -23.12\n",
    "print(abs(a))"
   ]
  },
  {
   "cell_type": "code",
   "execution_count": 3,
   "metadata": {},
   "outputs": [
    {
     "name": "stdout",
     "output_type": "stream",
     "text": [
      "6.708203932499369\n"
     ]
    }
   ],
   "source": [
    "complex_num = 6 + 3j\n",
    "print(abs(complex_num))"
   ]
  },
  {
   "cell_type": "markdown",
   "metadata": {},
   "source": [
    "### Adding a Thousand Separator"
   ]
  },
  {
   "cell_type": "code",
   "execution_count": 4,
   "metadata": {},
   "outputs": [
    {
     "name": "stdout",
     "output_type": "stream",
     "text": [
      "['10,989,767', '9,876,780', '9,908,763']\n"
     ]
    }
   ],
   "source": [
    "a = [10989767, 9876780, 9908763]\n",
    "\n",
    "new_list = ['{:,}'.format(num) for num in a]\n",
    "print(new_list)"
   ]
  },
  {
   "cell_type": "code",
   "execution_count": 6,
   "metadata": {},
   "outputs": [
    {
     "name": "stdout",
     "output_type": "stream",
     "text": [
      "['10_989_767', '9_876_780', '9_908_763']\n"
     ]
    }
   ],
   "source": [
    "new_list = [f'{num:_}' for num in a]\n",
    "print(new_list)"
   ]
  },
  {
   "cell_type": "markdown",
   "metadata": {},
   "source": [
    "### Startswith and Endswith Methods\n",
    "\n",
    "Using startwith()"
   ]
  },
  {
   "cell_type": "code",
   "execution_count": 7,
   "metadata": {},
   "outputs": [
    {
     "name": "stdout",
     "output_type": "stream",
     "text": [
      "['apple', 'apricot']\n"
     ]
    }
   ],
   "source": [
    "list1 = ['lemon', 'orange', 'apple', 'apricot']\n",
    "\n",
    "new_list = [i for i in list1 if i.startswith('a')]\n",
    "print(new_list)"
   ]
  },
  {
   "cell_type": "markdown",
   "metadata": {},
   "source": [
    "Using endswith()"
   ]
  },
  {
   "cell_type": "code",
   "execution_count": 9,
   "metadata": {},
   "outputs": [
    {
     "name": "stdout",
     "output_type": "stream",
     "text": [
      "['orange', 'apple']\n"
     ]
    }
   ],
   "source": [
    "new_list = [i for i in list1 if i.endswith('e')]\n",
    "print(new_list)"
   ]
  },
  {
   "cell_type": "markdown",
   "metadata": {},
   "source": [
    "### Nlargest and Nsmalest"
   ]
  },
  {
   "cell_type": "code",
   "execution_count": 1,
   "metadata": {},
   "outputs": [
    {
     "name": "stdout",
     "output_type": "stream",
     "text": [
      "[98, 90, 74, 67, 55]\n"
     ]
    }
   ],
   "source": [
    "def sort_list(arr : list):\n",
    "    a = sorted(arr, reverse=True)\n",
    "    return a[:5]\n",
    "\n",
    "results = [12, 32, 67, 98, 90, 55, 46, 74, 31]\n",
    "\n",
    "print(sort_list(results))"
   ]
  },
  {
   "cell_type": "markdown",
   "metadata": {},
   "source": [
    "#### Using nlargest"
   ]
  },
  {
   "cell_type": "code",
   "execution_count": 2,
   "metadata": {},
   "outputs": [
    {
     "name": "stdout",
     "output_type": "stream",
     "text": [
      "[98, 90, 74, 67, 55]\n"
     ]
    }
   ],
   "source": [
    "import heapq\n",
    "\n",
    "results = [12, 32, 67, 98, 90, 55, 46, 74, 31]\n",
    "print(heapq.nlargest(5, results))"
   ]
  },
  {
   "cell_type": "markdown",
   "metadata": {},
   "source": [
    "#### Using nsmallest"
   ]
  },
  {
   "cell_type": "code",
   "execution_count": 3,
   "metadata": {},
   "outputs": [
    {
     "name": "stdout",
     "output_type": "stream",
     "text": [
      "[12, 31, 32, 46, 55]\n"
     ]
    }
   ],
   "source": [
    "import heapq\n",
    "\n",
    "results = [12, 32, 67, 98, 90, 55, 46, 74, 31]\n",
    "print(heapq.nsmallest(5, results))"
   ]
  },
  {
   "cell_type": "markdown",
   "metadata": {},
   "source": [
    "#### Flatten Nested List"
   ]
  },
  {
   "cell_type": "code",
   "execution_count": 1,
   "metadata": {},
   "outputs": [
    {
     "name": "stdout",
     "output_type": "stream",
     "text": [
      "[12, 34, 56, 23, 45, 67, 34, 56, 78]\n"
     ]
    }
   ],
   "source": [
    "nested_list = [[12, 34, 56], [23, 45, 67], [34, 56, 78]]\n",
    "\n",
    "new_list = sum(nested_list, [])\n",
    "print(new_list)"
   ]
  },
  {
   "cell_type": "markdown",
   "metadata": {},
   "source": [
    "Using reduce function"
   ]
  },
  {
   "cell_type": "code",
   "execution_count": 2,
   "metadata": {},
   "outputs": [
    {
     "name": "stdout",
     "output_type": "stream",
     "text": [
      "[12, 34, 56, 23, 45, 67, 34, 56, 78]\n"
     ]
    }
   ],
   "source": [
    "from functools import reduce\n",
    "\n",
    "nested_list = [[12, 34, 56], [23, 45, 67], [34, 56, 78]]\n",
    "\n",
    "new_list = reduce(lambda x, y: x + y, nested_list)\n",
    "\n",
    "print(new_list)"
   ]
  },
  {
   "cell_type": "code",
   "execution_count": null,
   "metadata": {},
   "outputs": [],
   "source": []
  }
 ],
 "metadata": {
  "kernelspec": {
   "display_name": "Python 3",
   "language": "python",
   "name": "python3"
  },
  "language_info": {
   "codemirror_mode": {
    "name": "ipython",
    "version": 3
   },
   "file_extension": ".py",
   "mimetype": "text/x-python",
   "name": "python",
   "nbconvert_exporter": "python",
   "pygments_lexer": "ipython3",
   "version": "3.12.3"
  }
 },
 "nbformat": 4,
 "nbformat_minor": 2
}
